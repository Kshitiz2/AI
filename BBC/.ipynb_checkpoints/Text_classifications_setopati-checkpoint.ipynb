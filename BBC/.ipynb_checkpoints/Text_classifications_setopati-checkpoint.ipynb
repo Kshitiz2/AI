{
 "cells": [
  {
   "cell_type": "code",
   "execution_count": 3,
   "metadata": {
    "executionInfo": {
     "elapsed": 3712,
     "status": "ok",
     "timestamp": 1619745237678,
     "user": {
      "displayName": "Subash _5",
      "photoUrl": "",
      "userId": "04112745802964935283"
     },
     "user_tz": -345
    },
    "id": "wy0o5FXiXfcy"
   },
   "outputs": [],
   "source": [
    "import pandas as pd\n",
    "import numpy as np\n",
    "import pickle\n",
    "from keras.preprocessing.text import Tokenizer\n",
    "from keras.models import Sequential\n",
    "from keras.layers import Activation, Dense, Dropout\n",
    "from sklearn.preprocessing import LabelBinarizer\n",
    "import sklearn.datasets as skds\n",
    "from pathlib import Path\n",
    "import pathlib"
   ]
  },
  {
   "cell_type": "code",
   "execution_count": 1,
   "metadata": {
    "colab": {
     "base_uri": "https://localhost:8080/"
    },
    "executionInfo": {
     "elapsed": 22614,
     "status": "ok",
     "timestamp": 1619745218208,
     "user": {
      "displayName": "Subash _5",
      "photoUrl": "",
      "userId": "04112745802964935283"
     },
     "user_tz": -345
    },
    "id": "IwoKB4NwNoY7",
    "outputId": "600e8296-7578-41fe-f38c-2f4cac1b4fcd"
   },
   "outputs": [
    {
     "name": "stdout",
     "output_type": "stream",
     "text": [
      "Mounted at /content/drive\n"
     ]
    }
   ],
   "source": [
    "from google.colab import drive\n",
    "drive.mount('/content/drive')"
   ]
  },
  {
   "cell_type": "code",
   "execution_count": 12,
   "metadata": {
    "colab": {
     "base_uri": "https://localhost:8080/",
     "height": 538
    },
    "executionInfo": {
     "elapsed": 1015,
     "status": "ok",
     "timestamp": 1619747742737,
     "user": {
      "displayName": "Subash _5",
      "photoUrl": "",
      "userId": "04112745802964935283"
     },
     "user_tz": -345
    },
    "id": "JVPcAUOKXfdW",
    "outputId": "a605f655-9131-4cff-b37a-8669bef65b28"
   },
   "outputs": [
    {
     "name": "stdout",
     "output_type": "stream",
     "text": [
      "[2 1 2 1 2 3 2 4 1 2 2 4 1 3 2 1 3 2 2 1 3 0 4 2 1 4 0 0 3 0 3 2 1 3 2 2 3\n",
      " 0 0 3 2 0 3 3 1 2 3 0 1 3 1 2 2 1 1 3 4 0 3 0 2 1 0 1 3 4 0 1 2 3 4 3 1 0\n",
      " 1 1 1 3 0 2 1 2 0 1 0 4 2 3 0 0 0 1 0 0 3 1 0 2 2 0 3 2 0 3 1 0 0 3 1 2 1\n",
      " 0 2 3 4 0 0 0 0 3 0 3 0 2 4 2 3 3 1 3 2 2 2 2 0 3 2 2 1 3 1 2 1 3 4 1 0 1\n",
      " 1 1 0 0 1 4 2 0 3 2 1 1 2 3 4 0 1 1 2 4 3 3 4 3 1 3 4 0 2 1 0 0 2 1 0 2 3\n",
      " 0 1 2 3 0 0 2 0 2 4 2 0 0 3 1 2 2 3 0 3 2 3 3 4 0 2 2 3 2 0 3 4 1 1 4 3 1\n",
      " 3 3 1 2 4 1 1 0 2 1 4 3 4 0 3 3 1 2 1 3 1 1 0 4 0 3 0 1 3 4 1 3 2 0 2]\n"
     ]
    },
    {
     "data": {
      "text/html": [
       "<div>\n",
       "<style scoped>\n",
       "    .dataframe tbody tr th:only-of-type {\n",
       "        vertical-align: middle;\n",
       "    }\n",
       "\n",
       "    .dataframe tbody tr th {\n",
       "        vertical-align: top;\n",
       "    }\n",
       "\n",
       "    .dataframe thead th {\n",
       "        text-align: right;\n",
       "    }\n",
       "</style>\n",
       "<table border=\"1\" class=\"dataframe\">\n",
       "  <thead>\n",
       "    <tr style=\"text-align: right;\">\n",
       "      <th></th>\n",
       "      <th>filename</th>\n",
       "      <th>category</th>\n",
       "      <th>news</th>\n",
       "    </tr>\n",
       "  </thead>\n",
       "  <tbody>\n",
       "    <tr>\n",
       "      <th>0</th>\n",
       "      <td>/content/drive/MyDrive/setopat_m/setopati/poli...</td>\n",
       "      <td>politics</td>\n",
       "      <td>Iran on Sunday described a blackout at its und...</td>\n",
       "    </tr>\n",
       "    <tr>\n",
       "      <th>1</th>\n",
       "      <td>/content/drive/MyDrive/setopat_m/setopati/ente...</td>\n",
       "      <td>entertainment</td>\n",
       "      <td>Please allow them to...</td>\n",
       "    </tr>\n",
       "    <tr>\n",
       "      <th>2</th>\n",
       "      <td>/content/drive/MyDrive/setopat_m/setopati/poli...</td>\n",
       "      <td>politics</td>\n",
       "      <td>CPNUML has expelled four lawmakers who crossed...</td>\n",
       "    </tr>\n",
       "    <tr>\n",
       "      <th>3</th>\n",
       "      <td>/content/drive/MyDrive/setopat_m/setopati/ente...</td>\n",
       "      <td>entertainment</td>\n",
       "      <td>U.S. singer Chris Br...</td>\n",
       "    </tr>\n",
       "    <tr>\n",
       "      <th>4</th>\n",
       "      <td>/content/drive/MyDrive/setopat_m/setopati/poli...</td>\n",
       "      <td>politics</td>\n",
       "      <td>The government has reiterated that it does not...</td>\n",
       "    </tr>\n",
       "    <tr>\n",
       "      <th>...</th>\n",
       "      <td>...</td>\n",
       "      <td>...</td>\n",
       "      <td>...</td>\n",
       "    </tr>\n",
       "    <tr>\n",
       "      <th>252</th>\n",
       "      <td>/content/drive/MyDrive/setopat_m/setopati/ente...</td>\n",
       "      <td>entertainment</td>\n",
       "      <td>Who will be inside t...</td>\n",
       "    </tr>\n",
       "    <tr>\n",
       "      <th>253</th>\n",
       "      <td>/content/drive/MyDrive/setopat_m/setopati/soci...</td>\n",
       "      <td>social</td>\n",
       "      <td>India said Tuesday that it will approve the us...</td>\n",
       "    </tr>\n",
       "    <tr>\n",
       "      <th>254</th>\n",
       "      <td>/content/drive/MyDrive/setopat_m/setopati/poli...</td>\n",
       "      <td>politics</td>\n",
       "      <td>The Supreme Court SC has refused to issue inte...</td>\n",
       "    </tr>\n",
       "    <tr>\n",
       "      <th>255</th>\n",
       "      <td>/content/drive/MyDrive/setopat_m/setopati/busi...</td>\n",
       "      <td>business</td>\n",
       "      <td>In a daring escape that confounded authorities...</td>\n",
       "    </tr>\n",
       "    <tr>\n",
       "      <th>256</th>\n",
       "      <td>/content/drive/MyDrive/setopat_m/setopati/poli...</td>\n",
       "      <td>politics</td>\n",
       "      <td>CPNUML leader Bam Dev Gautam has briefed fello...</td>\n",
       "    </tr>\n",
       "  </tbody>\n",
       "</table>\n",
       "<p>257 rows × 3 columns</p>\n",
       "</div>"
      ],
      "text/plain": [
       "                                              filename  ...                                               news\n",
       "0    /content/drive/MyDrive/setopat_m/setopati/poli...  ...  Iran on Sunday described a blackout at its und...\n",
       "1    /content/drive/MyDrive/setopat_m/setopati/ente...  ...                            Please allow them to...\n",
       "2    /content/drive/MyDrive/setopat_m/setopati/poli...  ...  CPNUML has expelled four lawmakers who crossed...\n",
       "3    /content/drive/MyDrive/setopat_m/setopati/ente...  ...                            U.S. singer Chris Br...\n",
       "4    /content/drive/MyDrive/setopat_m/setopati/poli...  ...  The government has reiterated that it does not...\n",
       "..                                                 ...  ...                                                ...\n",
       "252  /content/drive/MyDrive/setopat_m/setopati/ente...  ...                            Who will be inside t...\n",
       "253  /content/drive/MyDrive/setopat_m/setopati/soci...  ...  India said Tuesday that it will approve the us...\n",
       "254  /content/drive/MyDrive/setopat_m/setopati/poli...  ...  The Supreme Court SC has refused to issue inte...\n",
       "255  /content/drive/MyDrive/setopat_m/setopati/busi...  ...  In a daring escape that confounded authorities...\n",
       "256  /content/drive/MyDrive/setopat_m/setopati/poli...  ...  CPNUML leader Bam Dev Gautam has briefed fello...\n",
       "\n",
       "[257 rows x 3 columns]"
      ]
     },
     "execution_count": 12,
     "metadata": {
      "tags": []
     },
     "output_type": "execute_result"
    }
   ],
   "source": [
    "# For reproducibility\n",
    "np.random.seed(1237)\n",
    "import pathlib\n",
    "# Source file directory\n",
    "path_train = \"/content/drive/MyDrive/setopat_m/setopati\"\n",
    "\n",
    "files_train = skds.load_files(path_train,load_content=False)\n",
    "\n",
    "label_index = files_train.target\n",
    "label_names = files_train.target_names\n",
    "labelled_files = files_train.filenames\n",
    "print(label_index)\n",
    "data_tags = [\"filename\",\"category\",\"news\"]\n",
    "data_list = []\n",
    "\n",
    "#do this process if data is not readable\n",
    "#i=0\n",
    "#for f in labelled_files:\n",
    " # try:\n",
    "  #  data_list.append((f,label_names[label_index[i]],Path(f).read_text()))\n",
    "   # i += 1\n",
    "  #except:\n",
    "  #  print(f)\n",
    "   # Read and add data from file to a list\n",
    "i=0\n",
    "for f in labelled_files:\n",
    "  data_list.append((f,label_names[label_index[i]],pathlib.Path(f).read_text()))\n",
    "  i += 1\n",
    "\n",
    "\n",
    "# We have training data available as dictionary filename, category, data\n",
    "data = pd.DataFrame.from_records(data_list, columns=data_tags)\n",
    "data"
   ]
  },
  {
   "cell_type": "code",
   "execution_count": null,
   "metadata": {
    "id": "StDW8uLHeoc_"
   },
   "outputs": [],
   "source": [
    "# import pandas\n",
    "# import os\n",
    "# cat=[]\n",
    "# news = []\n",
    "\n",
    "# cat = os.listdir('/content/drive/My Drive/text classification/bbc')\n",
    "# print(cat)\n",
    "# file = os.listdir('/content/drive/My Drive/text classification/bbc/business')\n",
    "# print(file)"
   ]
  },
  {
   "cell_type": "code",
   "execution_count": null,
   "metadata": {
    "id": "8aTk5soOaSSr"
   },
   "outputs": [],
   "source": [
    "\n",
    "# for j in file:\n",
    "#   for i in cat:\n",
    "    \n",
    "#     b = open(f\"/content/drive/My Drive/text classification/bbc/{i}/{j}\",encoding='utf-8')\n",
    "#     c = b.read()\n",
    "#     cat.append('business')\n",
    "#     news.append(c)\n",
    "\n",
    "# data = {'category':cat,'news':news}\n",
    "# data = pandas.DataFrame(data)\n",
    "# data"
   ]
  },
  {
   "cell_type": "code",
   "execution_count": 13,
   "metadata": {
    "executionInfo": {
     "elapsed": 997,
     "status": "ok",
     "timestamp": 1619747752182,
     "user": {
      "displayName": "Subash _5",
      "photoUrl": "",
      "userId": "04112745802964935283"
     },
     "user_tz": -345
    },
    "id": "lpQwdLcDXfdm"
   },
   "outputs": [],
   "source": [
    "# lets take 80% data as training and remaining 20% for test.\n",
    "train_size = int(len(data) * .8)\n",
    " \n",
    "train_posts = data['news'][:train_size]\n",
    "train_tags = data['category'][:train_size]\n",
    "train_files_names = data['filename'][:train_size]\n",
    " \n",
    "test_posts = data['news'][train_size:]\n",
    "test_tags = data['category'][train_size:]\n",
    "test_files_names = data['filename'][train_size:]"
   ]
  },
  {
   "cell_type": "code",
   "execution_count": 14,
   "metadata": {
    "executionInfo": {
     "elapsed": 1360,
     "status": "ok",
     "timestamp": 1619747755996,
     "user": {
      "displayName": "Subash _5",
      "photoUrl": "",
      "userId": "04112745802964935283"
     },
     "user_tz": -345
    },
    "id": "U8l5F1soXfd2"
   },
   "outputs": [],
   "source": [
    "# 20 news groups\n",
    "num_labels = 5\n",
    "vocab_size = 15000\n",
    "batch_size = 100\n",
    " \n",
    "# define Tokenizer with Vocab Size\n",
    "tokenizer = Tokenizer(num_words=vocab_size)\n",
    "tokenizer.fit_on_texts(train_posts)\n",
    " \n",
    "x_train = tokenizer.texts_to_matrix(train_posts, mode='tfidf')\n",
    "x_test = tokenizer.texts_to_matrix(test_posts, mode='tfidf')\n",
    " \n",
    "encoder = LabelBinarizer()\n",
    "encoder.fit(train_tags)\n",
    "y_train = encoder.transform(train_tags)\n",
    "y_test = encoder.transform(test_tags)"
   ]
  },
  {
   "cell_type": "code",
   "execution_count": 22,
   "metadata": {
    "colab": {
     "base_uri": "https://localhost:8080/"
    },
    "executionInfo": {
     "elapsed": 4373,
     "status": "ok",
     "timestamp": 1619747992458,
     "user": {
      "displayName": "Subash _5",
      "photoUrl": "",
      "userId": "04112745802964935283"
     },
     "user_tz": -345
    },
    "id": "UAEYp9KsXfeY",
    "outputId": "f5c2047d-de62-44c9-ee13-9e12ac2d12c3"
   },
   "outputs": [
    {
     "name": "stdout",
     "output_type": "stream",
     "text": [
      "Model: \"sequential_7\"\n",
      "_________________________________________________________________\n",
      "Layer (type)                 Output Shape              Param #   \n",
      "=================================================================\n",
      "dense_74 (Dense)             (None, 512)               7680512   \n",
      "_________________________________________________________________\n",
      "activation_25 (Activation)   (None, 512)               0         \n",
      "_________________________________________________________________\n",
      "dropout_18 (Dropout)         (None, 512)               0         \n",
      "_________________________________________________________________\n",
      "dense_75 (Dense)             (None, 250)               128250    \n",
      "_________________________________________________________________\n",
      "activation_26 (Activation)   (None, 250)               0         \n",
      "_________________________________________________________________\n",
      "dropout_19 (Dropout)         (None, 250)               0         \n",
      "_________________________________________________________________\n",
      "dense_76 (Dense)             (None, 100)               25100     \n",
      "_________________________________________________________________\n",
      "activation_27 (Activation)   (None, 100)               0         \n",
      "_________________________________________________________________\n",
      "dropout_20 (Dropout)         (None, 100)               0         \n",
      "_________________________________________________________________\n",
      "dense_77 (Dense)             (None, 512)               51712     \n",
      "_________________________________________________________________\n",
      "dense_78 (Dense)             (None, 256)               131328    \n",
      "_________________________________________________________________\n",
      "dense_79 (Dense)             (None, 128)               32896     \n",
      "_________________________________________________________________\n",
      "dense_80 (Dense)             (None, 32)                4128      \n",
      "_________________________________________________________________\n",
      "dense_81 (Dense)             (None, 16)                528       \n",
      "_________________________________________________________________\n",
      "dense_82 (Dense)             (None, 8)                 136       \n",
      "_________________________________________________________________\n",
      "dense_83 (Dense)             (None, 5)                 45        \n",
      "_________________________________________________________________\n",
      "dense_84 (Dense)             (None, 5)                 30        \n",
      "_________________________________________________________________\n",
      "activation_28 (Activation)   (None, 5)                 0         \n",
      "=================================================================\n",
      "Total params: 8,054,665\n",
      "Trainable params: 8,054,665\n",
      "Non-trainable params: 0\n",
      "_________________________________________________________________\n",
      "Epoch 1/50\n",
      "2/2 [==============================] - 1s 193ms/step - loss: 1.6246 - accuracy: 0.1423 - val_loss: 1.6060 - val_accuracy: 0.1905\n",
      "Epoch 2/50\n",
      "2/2 [==============================] - 0s 39ms/step - loss: 1.6064 - accuracy: 0.2494 - val_loss: 1.5852 - val_accuracy: 0.3333\n",
      "Epoch 3/50\n",
      "2/2 [==============================] - 0s 43ms/step - loss: 1.5796 - accuracy: 0.2651 - val_loss: 1.5280 - val_accuracy: 0.5238\n",
      "Epoch 4/50\n",
      "2/2 [==============================] - 0s 39ms/step - loss: 1.5026 - accuracy: 0.3767 - val_loss: 1.4570 - val_accuracy: 0.4762\n",
      "Epoch 5/50\n",
      "2/2 [==============================] - 0s 37ms/step - loss: 1.4083 - accuracy: 0.4616 - val_loss: 1.3464 - val_accuracy: 0.4762\n",
      "Epoch 6/50\n",
      "2/2 [==============================] - 0s 37ms/step - loss: 1.2525 - accuracy: 0.5281 - val_loss: 1.2052 - val_accuracy: 0.5238\n",
      "Epoch 7/50\n",
      "2/2 [==============================] - 0s 36ms/step - loss: 1.0916 - accuracy: 0.5949 - val_loss: 1.0767 - val_accuracy: 0.4762\n",
      "Epoch 8/50\n",
      "2/2 [==============================] - 0s 39ms/step - loss: 1.0216 - accuracy: 0.5819 - val_loss: 0.9432 - val_accuracy: 0.5714\n",
      "Epoch 9/50\n",
      "2/2 [==============================] - 0s 37ms/step - loss: 0.8447 - accuracy: 0.6514 - val_loss: 0.9119 - val_accuracy: 0.4762\n",
      "Epoch 10/50\n",
      "2/2 [==============================] - 0s 42ms/step - loss: 0.7478 - accuracy: 0.6297 - val_loss: 0.8279 - val_accuracy: 0.5714\n",
      "Epoch 11/50\n",
      "2/2 [==============================] - 0s 40ms/step - loss: 0.8199 - accuracy: 0.6016 - val_loss: 0.8082 - val_accuracy: 0.5714\n",
      "Epoch 12/50\n",
      "2/2 [==============================] - 0s 43ms/step - loss: 0.6904 - accuracy: 0.6414 - val_loss: 0.8374 - val_accuracy: 0.4762\n",
      "Epoch 13/50\n",
      "2/2 [==============================] - 0s 39ms/step - loss: 0.7192 - accuracy: 0.6242 - val_loss: 0.7662 - val_accuracy: 0.5714\n",
      "Epoch 14/50\n",
      "2/2 [==============================] - 0s 39ms/step - loss: 0.5818 - accuracy: 0.6757 - val_loss: 0.7784 - val_accuracy: 0.5714\n",
      "Epoch 15/50\n",
      "2/2 [==============================] - 0s 43ms/step - loss: 0.5651 - accuracy: 0.6754 - val_loss: 0.7454 - val_accuracy: 0.5714\n",
      "Epoch 16/50\n",
      "2/2 [==============================] - 0s 38ms/step - loss: 0.5366 - accuracy: 0.6896 - val_loss: 0.7550 - val_accuracy: 0.5714\n",
      "Epoch 17/50\n",
      "2/2 [==============================] - 0s 36ms/step - loss: 0.5241 - accuracy: 0.6859 - val_loss: 0.7994 - val_accuracy: 0.5238\n",
      "Epoch 18/50\n",
      "2/2 [==============================] - 0s 37ms/step - loss: 0.5813 - accuracy: 0.6523 - val_loss: 0.7546 - val_accuracy: 0.5714\n",
      "Epoch 19/50\n",
      "2/2 [==============================] - 0s 37ms/step - loss: 0.5491 - accuracy: 0.6629 - val_loss: 0.7018 - val_accuracy: 0.6190\n",
      "Epoch 20/50\n",
      "2/2 [==============================] - 0s 37ms/step - loss: 0.5316 - accuracy: 0.6659 - val_loss: 0.7215 - val_accuracy: 0.6190\n",
      "Epoch 21/50\n",
      "2/2 [==============================] - 0s 39ms/step - loss: 0.5377 - accuracy: 0.6793 - val_loss: 0.7516 - val_accuracy: 0.6190\n",
      "Epoch 22/50\n",
      "2/2 [==============================] - 0s 37ms/step - loss: 0.5138 - accuracy: 0.6793 - val_loss: 0.7688 - val_accuracy: 0.5714\n",
      "Epoch 23/50\n",
      "2/2 [==============================] - 0s 36ms/step - loss: 0.5033 - accuracy: 0.6826 - val_loss: 0.7760 - val_accuracy: 0.5714\n",
      "Epoch 24/50\n",
      "2/2 [==============================] - 0s 38ms/step - loss: 0.5191 - accuracy: 0.6659 - val_loss: 0.7747 - val_accuracy: 0.5714\n",
      "Epoch 25/50\n",
      "2/2 [==============================] - 0s 38ms/step - loss: 0.5352 - accuracy: 0.6562 - val_loss: 0.7689 - val_accuracy: 0.5714\n",
      "Epoch 26/50\n",
      "2/2 [==============================] - 0s 39ms/step - loss: 0.4933 - accuracy: 0.6826 - val_loss: 0.7644 - val_accuracy: 0.5714\n",
      "Epoch 27/50\n",
      "2/2 [==============================] - 0s 36ms/step - loss: 0.4662 - accuracy: 0.7032 - val_loss: 0.7529 - val_accuracy: 0.5714\n",
      "Epoch 28/50\n",
      "2/2 [==============================] - 0s 39ms/step - loss: 0.4714 - accuracy: 0.6929 - val_loss: 0.7432 - val_accuracy: 0.6190\n",
      "Epoch 29/50\n",
      "2/2 [==============================] - 0s 44ms/step - loss: 0.4877 - accuracy: 0.6865 - val_loss: 0.7341 - val_accuracy: 0.6190\n",
      "Epoch 30/50\n",
      "2/2 [==============================] - 0s 38ms/step - loss: 0.4961 - accuracy: 0.6790 - val_loss: 0.7020 - val_accuracy: 0.6190\n",
      "Epoch 31/50\n",
      "2/2 [==============================] - 0s 42ms/step - loss: 0.4839 - accuracy: 0.7004 - val_loss: 0.6784 - val_accuracy: 0.5714\n",
      "Epoch 32/50\n",
      "2/2 [==============================] - 0s 40ms/step - loss: 0.5234 - accuracy: 0.6562 - val_loss: 0.6669 - val_accuracy: 0.5714\n",
      "Epoch 33/50\n",
      "2/2 [==============================] - 0s 38ms/step - loss: 0.5163 - accuracy: 0.6593 - val_loss: 0.6640 - val_accuracy: 0.5714\n",
      "Epoch 34/50\n",
      "2/2 [==============================] - 0s 48ms/step - loss: 0.4766 - accuracy: 0.6826 - val_loss: 0.6629 - val_accuracy: 0.6190\n",
      "Epoch 35/50\n",
      "2/2 [==============================] - 0s 38ms/step - loss: 0.4950 - accuracy: 0.6726 - val_loss: 0.6858 - val_accuracy: 0.6667\n",
      "Epoch 36/50\n",
      "2/2 [==============================] - 0s 37ms/step - loss: 0.4832 - accuracy: 0.6865 - val_loss: 0.7371 - val_accuracy: 0.6667\n",
      "Epoch 37/50\n",
      "2/2 [==============================] - 0s 37ms/step - loss: 0.4972 - accuracy: 0.6941 - val_loss: 0.7746 - val_accuracy: 0.6667\n",
      "Epoch 38/50\n",
      "2/2 [==============================] - 0s 37ms/step - loss: 0.4915 - accuracy: 0.6765 - val_loss: 0.8003 - val_accuracy: 0.6190\n",
      "Epoch 39/50\n",
      "2/2 [==============================] - 0s 42ms/step - loss: 0.4630 - accuracy: 0.6896 - val_loss: 0.8164 - val_accuracy: 0.6190\n",
      "Epoch 40/50\n",
      "2/2 [==============================] - 0s 38ms/step - loss: 0.4755 - accuracy: 0.6793 - val_loss: 0.8046 - val_accuracy: 0.5714\n",
      "Epoch 41/50\n",
      "2/2 [==============================] - 0s 38ms/step - loss: 0.4549 - accuracy: 0.6929 - val_loss: 0.7704 - val_accuracy: 0.5714\n",
      "Epoch 42/50\n",
      "2/2 [==============================] - 0s 37ms/step - loss: 0.4674 - accuracy: 0.6865 - val_loss: 0.7377 - val_accuracy: 0.5714\n",
      "Epoch 43/50\n",
      "2/2 [==============================] - 0s 38ms/step - loss: 0.4800 - accuracy: 0.6729 - val_loss: 0.7108 - val_accuracy: 0.6190\n",
      "Epoch 44/50\n",
      "2/2 [==============================] - 0s 41ms/step - loss: 0.4770 - accuracy: 0.6832 - val_loss: 0.7055 - val_accuracy: 0.6190\n",
      "Epoch 45/50\n",
      "2/2 [==============================] - 0s 38ms/step - loss: 0.4707 - accuracy: 0.6865 - val_loss: 0.7026 - val_accuracy: 0.6190\n",
      "Epoch 46/50\n",
      "2/2 [==============================] - 0s 38ms/step - loss: 0.4750 - accuracy: 0.6799 - val_loss: 0.6991 - val_accuracy: 0.6190\n",
      "Epoch 47/50\n",
      "2/2 [==============================] - 0s 39ms/step - loss: 0.4977 - accuracy: 0.6599 - val_loss: 0.6943 - val_accuracy: 0.6190\n",
      "Epoch 48/50\n",
      "2/2 [==============================] - 0s 40ms/step - loss: 0.4579 - accuracy: 0.6829 - val_loss: 0.6897 - val_accuracy: 0.5714\n",
      "Epoch 49/50\n",
      "2/2 [==============================] - 0s 40ms/step - loss: 0.4804 - accuracy: 0.6662 - val_loss: 0.6888 - val_accuracy: 0.5714\n",
      "Epoch 50/50\n",
      "2/2 [==============================] - 0s 39ms/step - loss: 0.4364 - accuracy: 0.7032 - val_loss: 0.6887 - val_accuracy: 0.6190\n"
     ]
    }
   ],
   "source": [
    "model = Sequential()\n",
    "model.add(Dense(512, input_shape=(vocab_size,)))\n",
    "model.add(Activation('relu'))\n",
    "model.add(Dropout(0.3))\n",
    "\n",
    "\n",
    "\n",
    "model.add(Dense(250))\n",
    "model.add(Activation('relu'))\n",
    "model.add(Dropout(0.3))\n",
    "\n",
    "model.add(Dense(100))\n",
    "model.add(Activation('relu'))\n",
    "model.add(Dropout(0.3))\n",
    "\n",
    "\n",
    "model.add(Dense(units = 512, activation = 'relu'))\n",
    "model.add(Dense(units = 256, activation = 'relu'))\n",
    "model.add(Dense(units = 128, activation = 'relu'))\n",
    "model.add(Dense(units = 32, activation = 'relu'))\n",
    "model.add(Dense(units = 16, activation = 'relu'))\n",
    "model.add(Dense(units = 8, activation = 'relu'))\n",
    "model.add(Dense(units = 5, activation = 'relu'))\n",
    "#model.add(Dense(units = 2, activation = 'relu'))\n",
    "\n",
    "model.add(Dense(num_labels))\n",
    "model.add(Activation('softmax'))\n",
    "\n",
    "model.summary()\n",
    " \n",
    "model.compile(loss='categorical_crossentropy',\n",
    "              optimizer='adam',\n",
    "              metrics=['accuracy'])\n",
    " \n",
    "history = model.fit(x_train, y_train,\n",
    "                    batch_size=batch_size,\n",
    "                    epochs=50,\n",
    "                    verbose=1,\n",
    "                    validation_split=0.1)"
   ]
  },
  {
   "cell_type": "code",
   "execution_count": 23,
   "metadata": {
    "colab": {
     "base_uri": "https://localhost:8080/",
     "height": 279
    },
    "executionInfo": {
     "elapsed": 1949,
     "status": "ok",
     "timestamp": 1619748020801,
     "user": {
      "displayName": "Subash _5",
      "photoUrl": "",
      "userId": "04112745802964935283"
     },
     "user_tz": -345
    },
    "id": "RfF604Fxo6Qj",
    "outputId": "67b3edd4-ebd5-4d90-ef31-8f844a9be670"
   },
   "outputs": [
    {
     "data": {
      "image/png": "[encoded data removed]",
      "text/plain": [
       "<Figure size 432x288 with 1 Axes>"
      ]
     },
     "metadata": {
      "needs_background": "light",
      "tags": []
     },
     "output_type": "display_data"
    }
   ],
   "source": [
    "# Plotting our loss charts\n",
    "import matplotlib.pyplot as plt\n",
    "\n",
    "history_dict = history.history\n",
    "\n",
    "loss_values = history_dict['loss']\n",
    "val_loss_values = history_dict['val_loss']\n",
    "epochs = range(1, len(loss_values) + 1)\n",
    "\n",
    "line1 = plt.plot(epochs, val_loss_values, label='Validation/Test Loss')\n",
    "line2 = plt.plot(epochs, loss_values, label='Training Loss')\n",
    "plt.setp(line1, linewidth=2.0, marker = '+', markersize=10.0)\n",
    "plt.setp(line2, linewidth=2.0, marker = '4', markersize=10.0)\n",
    "plt.xlabel('Epochs') \n",
    "plt.ylabel('Loss')\n",
    "plt.grid(True)\n",
    "plt.legend()\n",
    "plt.show()"
   ]
  },
  {
   "cell_type": "code",
   "execution_count": 24,
   "metadata": {
    "colab": {
     "base_uri": "https://localhost:8080/",
     "height": 279
    },
    "executionInfo": {
     "elapsed": 1101,
     "status": "ok",
     "timestamp": 1619748026683,
     "user": {
      "displayName": "Subash _5",
      "photoUrl": "",
      "userId": "04112745802964935283"
     },
     "user_tz": -345
    },
    "id": "jrtuyaU3pAdk",
    "outputId": "e76176da-7193-4ee6-9424-7d981311e842"
   },
   "outputs": [
    {
     "data": {
      "image/png": "[encoded data removed]",
      "text/plain": [
       "<Figure size 432x288 with 1 Axes>"
      ]
     },
     "metadata": {
      "needs_background": "light",
      "tags": []
     },
     "output_type": "display_data"
    }
   ],
   "source": [
    "# Plotting our acuracy charts\n",
    "import matplotlib.pyplot as plt\n",
    "\n",
    "history_dict = history.history\n",
    "\n",
    "loss_values = history_dict['accuracy']\n",
    "val_loss_values = history_dict['val_accuracy']\n",
    "epochs = range(1, len(loss_values) + 1)\n",
    "\n",
    "line1 = plt.plot(epochs, val_loss_values, label='Validation/Test Accuracy')\n",
    "line2 = plt.plot(epochs, loss_values, label='Training Accuracy')\n",
    "plt.setp(line1, linewidth=2.0, marker = '+', markersize=10.0)\n",
    "plt.setp(line2, linewidth=2.0, marker = '4', markersize=10.0)\n",
    "plt.xlabel('Epochs') \n",
    "plt.ylabel('Loss')\n",
    "plt.grid(True)\n",
    "plt.legend()\n",
    "plt.show()"
   ]
  },
  {
   "cell_type": "code",
   "execution_count": 25,
   "metadata": {
    "colab": {
     "base_uri": "https://localhost:8080/"
    },
    "executionInfo": {
     "elapsed": 1617,
     "status": "ok",
     "timestamp": 1619748057518,
     "user": {
      "displayName": "Subash _5",
      "photoUrl": "",
      "userId": "04112745802964935283"
     },
     "user_tz": -345
    },
    "id": "RjhU9WeuXfen",
    "outputId": "d101d3a1-8d60-47bd-f5ed-9ec16f39f955"
   },
   "outputs": [
    {
     "name": "stdout",
     "output_type": "stream",
     "text": [
      "1/1 [==============================] - 0s 17ms/step - loss: 0.5262 - accuracy: 0.6923\n",
      "Test accuracy: 0.692307710647583\n",
      "/content/drive/MyDrive/setopat_m/setopati/politics/political19.txt\n",
      "Actual label:politics\n",
      "Predicted label: politics\n",
      "/content/drive/MyDrive/setopat_m/setopati/social/social19.txt\n",
      "Actual label:social\n",
      "Predicted label: social\n",
      "/content/drive/MyDrive/setopat_m/setopati/social/social56.txt\n",
      "Actual label:social\n",
      "Predicted label: social\n",
      "/content/drive/MyDrive/setopat_m/setopati/sports/sports13.txt\n",
      "Actual label:sports\n",
      "Predicted label: business\n",
      "/content/drive/MyDrive/setopat_m/setopati/business/business38.txt\n",
      "Actual label:business\n",
      "Predicted label: politics\n",
      "/content/drive/MyDrive/setopat_m/setopati/politics/political55.txt\n",
      "Actual label:politics\n",
      "Predicted label: politics\n",
      "/content/drive/MyDrive/setopat_m/setopati/politics/political32.txt\n",
      "Actual label:politics\n",
      "Predicted label: politics\n",
      "/content/drive/MyDrive/setopat_m/setopati/social/social44.txt\n",
      "Actual label:social\n",
      "Predicted label: social\n",
      "/content/drive/MyDrive/setopat_m/setopati/politics/political37.txt\n",
      "Actual label:politics\n",
      "Predicted label: politics\n",
      "/content/drive/MyDrive/setopat_m/setopati/business/business35.txt\n",
      "Actual label:business\n",
      "Predicted label: politics\n"
     ]
    }
   ],
   "source": [
    "score = model.evaluate(x_test, y_test,\n",
    "                       batch_size=batch_size, verbose=1)\n",
    "\n",
    "print('Test accuracy:', score[1])\n",
    "\n",
    "text_labels = encoder.classes_\n",
    "\n",
    "for i in range(10):\n",
    "    prediction = model.predict(np.array([x_test[i]]))\n",
    "    predicted_label = text_labels[np.argmax(prediction[0])]\n",
    "    print(test_files_names.iloc[i])\n",
    "    print('Actual label:' + test_tags.iloc[i])\n",
    "    print(\"Predicted label: \" + predicted_label)"
   ]
  },
  {
   "cell_type": "code",
   "execution_count": 26,
   "metadata": {
    "executionInfo": {
     "elapsed": 1058,
     "status": "ok",
     "timestamp": 1619748154911,
     "user": {
      "displayName": "Subash _5",
      "photoUrl": "",
      "userId": "04112745802964935283"
     },
     "user_tz": -345
    },
    "id": "GfRHrqMXXff4"
   },
   "outputs": [],
   "source": [
    "# creates a HDF5 file 'my_model.h5'\n",
    "model = model.save('/content/drive/MyDrive/setopat_m/my_setopati_model.h5')\n",
    " \n",
    "# Save Tokenizer i.e. Vocabulary\n",
    "with open('/content/drive/MyDrive/setopat_m/tokenizer.pickle', 'wb') as handle:\n",
    "    pickle.dump(tokenizer, handle, protocol=pickle.HIGHEST_PROTOCOL)"
   ]
  },
  {
   "cell_type": "code",
   "execution_count": 27,
   "metadata": {
    "colab": {
     "base_uri": "https://localhost:8080/"
    },
    "executionInfo": {
     "elapsed": 1429,
     "status": "ok",
     "timestamp": 1619748158729,
     "user": {
      "displayName": "Subash _5",
      "photoUrl": "",
      "userId": "04112745802964935283"
     },
     "user_tz": -345
    },
    "id": "Uw0zC-aVXfgQ",
    "outputId": "3ac71d13-934f-4e4c-dd54-c4ca7d562ebf"
   },
   "outputs": [
    {
     "data": {
      "text/plain": [
       "array(['business', 'entertainment', 'politics', 'social', 'sports'],\n",
       "      dtype='<U13')"
      ]
     },
     "execution_count": 27,
     "metadata": {
      "tags": []
     },
     "output_type": "execute_result"
    }
   ],
   "source": [
    "# load our saved model\n",
    "from keras.models import load_model\n",
    "model = load_model('/content/drive/MyDrive/setopat_m/my_setopati_model.h5')\n",
    " \n",
    "# load tokenizer\n",
    "tokenizer = Tokenizer()\n",
    "with open('/content/drive/MyDrive/setopat_m/tokenizer.pickle', 'rb') as handle:\n",
    "    tokenizer = pickle.load(handle)\n",
    "    \n",
    "    \n",
    "encoder.classes_ #LabelBinarizer"
   ]
  },
  {
   "cell_type": "code",
   "execution_count": 28,
   "metadata": {
    "colab": {
     "base_uri": "https://localhost:8080/"
    },
    "executionInfo": {
     "elapsed": 993,
     "status": "ok",
     "timestamp": 1619748164439,
     "user": {
      "displayName": "Subash _5",
      "photoUrl": "",
      "userId": "04112745802964935283"
     },
     "user_tz": -345
    },
    "id": "pC6rtDdKXfgj",
    "outputId": "65b27d74-95f0-4f58-a751-4093bd2fdef4"
   },
   "outputs": [
    {
     "name": "stdout",
     "output_type": "stream",
     "text": [
      "[[5.8802269e-11 9.9985528e-01 2.7479169e-12 1.4475579e-04 5.0549759e-11]]\n",
      "File -> /content/drive/MyDrive/news.txt Predicted label: entertainment\n"
     ]
    }
   ],
   "source": [
    "# These are the labels we stored from our training\n",
    "# The order is very important here.\n",
    " \n",
    "labels = np.array(['business', 'entertainment', 'politics', 'social','sports'])\n",
    " \n",
    "test_files = [\"/content/drive/MyDrive/news.txt\"]\n",
    "x_data = []\n",
    "for t_f in test_files:\n",
    "    t_f_data = Path(t_f).read_text()\n",
    "    x_data.append(t_f_data)\n",
    " \n",
    "x_data_series = pd.Series(x_data)\n",
    "x_tokenized = tokenizer.texts_to_matrix(x_data_series, mode='tfidf')\n",
    " \n",
    "i=0\n",
    "for x_t in x_tokenized:\n",
    "    prediction = model.predict(np.array([x_t]))\n",
    "    predicted_label = labels[np.argmax(prediction[0])]\n",
    "    print(prediction)\n",
    "    print(\"File ->\", test_files[i], \"Predicted label: \" + predicted_label)"
   ]
  },
  {
   "cell_type": "code",
   "execution_count": null,
   "metadata": {
    "id": "DxNGuGJBXfhB"
   },
   "outputs": [],
   "source": []
  }
 ],
 "metadata": {
  "accelerator": "GPU",
  "colab": {
   "collapsed_sections": [],
   "name": "Text_classifications_setopati.ipynb",
   "provenance": []
  },
  "kernelspec": {
   "display_name": "Python 3",
   "language": "python",
   "name": "python3"
  },
  "language_info": {
   "codemirror_mode": {
    "name": "ipython",
    "version": 3
   },
   "file_extension": ".py",
   "mimetype": "text/x-python",
   "name": "python",
   "nbconvert_exporter": "python",
   "pygments_lexer": "ipython3",
   "version": "3.8.5"
  }
 },
 "nbformat": 4,
 "nbformat_minor": 1
}

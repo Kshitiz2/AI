{
 "cells": [
  {
   "cell_type": "code",
   "execution_count": 1,
   "metadata": {},
   "outputs": [],
   "source": [
    "import cv2\n",
    "\n",
    "import numpy as np\n",
    "#load harr cascode classifier\n",
    "face_detection = cv2.CascadeClassifier('haarcascade_frontalface_alt.xml')\n",
    "#face=face_detection.detectMultiScale(gray,1.3,5)\n",
    "eye_detection=cv2.CascadeClassifier('haarcascade_eye.xml')\n",
    "#eye=face_detection.detectMultiScale(gray,1.1,3)"
   ]
  },
  {
   "cell_type": "code",
   "execution_count": 2,
   "metadata": {},
   "outputs": [],
   "source": [
    "def detect(gray,frame):\n",
    "    face=face_detection.detectMultiScale(gray,1.3,5)\n",
    "    for(x,y,w,h) in face:\n",
    "        cv2.rectangle(frame,(x,y),(x+w,y+h),(0,255,0),3)\n",
    "        snobel=(1/55)*np.array([[-1,1,1],\n",
    "                               [1,-50,1],\n",
    "                               [1,1,-1]])\n",
    "#blur=cv2.filter2D(image,-1,snobel)\n",
    "        face_gray=gray[y:y+h,x:x+w]\n",
    "        face_color=frame[y:y+h,x:x+w]\n",
    "        frame[y:y+h,x:x+w]=cv2.filter2D(face_color,-1,snobel)\n",
    "        cv2.rectangle(face_color,(x,y),(x+w,y+h),(0,255,0),3)\n",
    "        eye=eye_detection.detectMultiScale(face_gray,1.1,3)\n",
    "        for (ex,ey,ew,eh) in eye:\n",
    "            cv2.rectangle(face_color,(ex,ey),(ex+ew,ey+eh),(255,0,0),3)\n",
    "    return frame"
   ]
  },
  {
   "cell_type": "code",
   "execution_count": 3,
   "metadata": {},
   "outputs": [],
   "source": [
    "video_capture=cv2.VideoCapture(0) #turn the web cam on "
   ]
  },
  {
   "cell_type": "code",
   "execution_count": null,
   "metadata": {},
   "outputs": [],
   "source": [
    "while True:\n",
    "    ret,frame=video_capture.read()\n",
    "    gray = cv2.cvtColor(frame,cv2.COLOR_BGR2GRAY)\n",
    "    output = detect(gray,frame)\n",
    "    cv2.imshow('my video',output)\n",
    "    if cv2.waitKey(1) & 0xff ==ord('q'):\n",
    "        cv2.destroyAllWindows()\n",
    "        break"
   ]
  },
  {
   "cell_type": "code",
   "execution_count": null,
   "metadata": {},
   "outputs": [],
   "source": []
  }
 ],
 "metadata": {
  "kernelspec": {
   "display_name": "Python 3",
   "language": "python",
   "name": "python3"
  },
  "language_info": {
   "codemirror_mode": {
    "name": "ipython",
    "version": 3
   },
   "file_extension": ".py",
   "mimetype": "text/x-python",
   "name": "python",
   "nbconvert_exporter": "python",
   "pygments_lexer": "ipython3",
   "version": "3.8.5"
  }
 },
 "nbformat": 4,
 "nbformat_minor": 4
}

{
 "cells": [
  {
   "cell_type": "code",
   "execution_count": 8,
   "metadata": {},
   "outputs": [
    {
     "name": "stdout",
     "output_type": "stream",
     "text": [
      "enter page no = 2\n",
      "['https://en.setopati.com/social/155666', 'https://en.setopati.com/social/155664', 'https://en.setopati.com/social/155662', 'https://en.setopati.com/social/155658', 'https://en.setopati.com/social/155657', 'https://en.setopati.com/social/155656', 'https://en.setopati.com/social/155647', 'https://en.setopati.com/social/155646', 'https://en.setopati.com/social/155645', 'https://en.setopati.com/social/155636', 'https://en.setopati.com/social/155634', 'https://en.setopati.com/social/155633', 'https://en.setopati.com/social/155620', 'https://en.setopati.com/social/155614', 'https://en.setopati.com/social/155613', 'https://en.setopati.com/social/155600', 'https://en.setopati.com/social/155595', 'https://en.setopati.com/social/155594', 'https://en.setopati.com/social/155583', 'https://en.setopati.com/social/155576', 'https://en.setopati.com/social/155571', 'https://en.setopati.com/social/155561', 'https://en.setopati.com/social/155556', 'https://en.setopati.com/social/155555', 'https://en.setopati.com/social/155548', 'https://en.setopati.com/social/155546', 'https://en.setopati.com/social/155545', 'https://en.setopati.com/social/155541', 'https://en.setopati.com/social/155540', 'https://en.setopati.com/social/155531', 'https://en.setopati.com/social/155528', 'https://en.setopati.com/social/155521', 'https://en.setopati.com/social/155511', 'https://en.setopati.com/social/155507', 'https://en.setopati.com/social/155503', 'https://en.setopati.com/social/155498', 'https://en.setopati.com/social/155495', 'https://en.setopati.com/social/155494', 'https://en.setopati.com/social/155486', 'https://en.setopati.com/social/155481', 'https://en.setopati.com/social/155475', 'https://en.setopati.com/social/155468', 'https://en.setopati.com/social/155467', 'https://en.setopati.com/social/155466', 'https://en.setopati.com/social/155458', 'https://en.setopati.com/social/155454', 'https://en.setopati.com/social/155452', 'https://en.setopati.com/social/155437', 'https://en.setopati.com/social/155438', 'https://en.setopati.com/social/155434', 'https://en.setopati.com/social/155427', 'https://en.setopati.com/social/155419', 'https://en.setopati.com/social/155417', 'https://en.setopati.com/social/155413', 'https://en.setopati.com/social/155403', 'https://en.setopati.com/social/155401', 'https://en.setopati.com/social/155392', 'https://en.setopati.com/social/155389']\n"
     ]
    }
   ],
   "source": [
    "from bs4 import BeautifulSoup\n",
    "import requests\n",
    "links=[]\n",
    "n=int(input(\"enter page no = \"))\n",
    "for i in range(1,n+1):\n",
    "    url= BeautifulSoup(f'https://en.setopati.com/social?page={i}', 'html.parser')\n",
    "\n",
    "    response=requests.get(url)\n",
    "    data=response.text\n",
    "\n",
    "    soup=BeautifulSoup(data,'lxml')\n",
    "\n",
    "    raw_data=soup.find_all(\"div\",class_=\"items col-md-4\")\n",
    "    raw_data=raw_data[0:-3]\n",
    "    #raw_string=raw_data.text\n",
    "    \n",
    "    for index in raw_data:\n",
    "        j=index.find_all('a')\n",
    "        k=j[0].get('href')\n",
    "        links.append(k)\n",
    "print(links)"
   ]
  },
  {
   "cell_type": "code",
   "execution_count": 9,
   "metadata": {},
   "outputs": [
    {
     "data": {
      "text/plain": [
       "58"
      ]
     },
     "execution_count": 9,
     "metadata": {},
     "output_type": "execute_result"
    }
   ],
   "source": [
    "len(links)"
   ]
  },
  {
   "cell_type": "code",
   "execution_count": 10,
   "metadata": {},
   "outputs": [
    {
     "data": {
      "text/plain": [
       "'A piece of the Wright brothers first airplane is on Mars.NASAs experimental Martian helicopter holds a small swatch of fabric from the 1903 Wright Flyer, the space agency revealed Tuesday. The helicopter, named Ingenuity, hitched a ride to the red planet with the Perseverance rover, arriving last month.Ingenuity will attempt the first powered, controlled flight on another planet no sooner than April 8. It will mark a Wright brothers moment, noted Bobby Braun, director for planetary science at NASAs Jet Propulsion Laboratory.The Carillon Historical Park in Dayton, Ohio, the Wrights hometown, donated the postagesize piece of muslin from the planes bottom left wing, at NASAs request.The swatch made the 300 millionmile journey to Mars with the blessing of the Wright brothers greatgrandniece and greatgrandnephew, said park curator Steve Lucht.Wilbur and Orville Wright would be pleased to know that a little piece of their 1903 Wright Flyer I, the machine that launched the Space Age by barely one quarter of a mile, is going to soar into history again on Mars Amanda Wright Lane and Stephen Wright said in a statement provided by the park.Orville Wright was on board for the worlds first powered, controlled flight on Dec. 17, 1903, at Kitty Hawk, North Carolina. The brothers took turns, making four flights that day.A fragment of Wright Flyer wood and fabric flew to the moon with Apollo 11s Neil Armstrong in 1969. A swatch also accompanied John Glenn into orbit aboard space shuttle Discovery in 1998. Both astronauts were from Ohio.NASAs 4pound 1.8kilogram helicopter will attempt to rise 10 feet 3 meters into the extremely thin Martian air on its first hop. Up to five increasingly higher and longer flights are planned over the course of a month.The material is taped to a cable beneath the helicopters solar panel, which is perched on top like a graduates mortarboard.For now, Ingenuity remains attached to the rovers belly. A protective shield dropped away over the weekend, exposing the spindly, longlegged chopper.The helicopter airfield is right next to the rovers landing site in Jezero Crater. The rover will observe the test flights from a distant perch, before driving away to pursue its own mission hunting for signs of ancient Martian life. Rock samples will be set aside for eventual return to Earth.'"
      ]
     },
     "execution_count": 10,
     "metadata": {},
     "output_type": "execute_result"
    }
   ],
   "source": [
    "from bs4 import BeautifulSoup\n",
    "import requests\n",
    "final_news = []\n",
    "for i in links:\n",
    "    url = BeautifulSoup(i, 'html.parser')\n",
    "    response = requests.get(url)\n",
    "    data = response.text\n",
    "    data = BeautifulSoup(data,'lxml')\n",
    "    raw_data = data.find(\"div\", class_=\"editor-box\")\n",
    "    raw_string = raw_data.text\n",
    "    final = raw_string.replace('\\n','')\n",
    "    final1 = final.replace('%','')\n",
    "    final2 = final1.replace('$','')\n",
    "    final3 = final2.replace('”','')\n",
    "    final4 = final3.replace('’','')\n",
    "    final5 = final4.replace('&','')\n",
    "    final6 = final5.replace(\"“\",'')\n",
    "    final7 = final6.replace(\"\\xa0\",'')\n",
    "    final8 = final7.replace(\";\",'')\n",
    "    final9 = final8.replace(\":\",'')\n",
    "    final10 = final9.replace(\"?\",'')\n",
    "    final11 = final10.replace(\"\",'')\n",
    "    final12 = final11.replace(\"\\r\",'')\n",
    "    final13 = final12.replace(\"″\",'')\n",
    "    final14 = final13.replace(\"-\",'')\n",
    "    final15 = final14.replace(\"/\",'')\n",
    "    final16 = final15.replace(\"\\'\",'')\n",
    "    final17 = final16.replace(\"!\",'')\n",
    "    final18 = final17.replace(\"@\",'')\n",
    "    final19 = final18.replace(\"___\",'')\n",
    "    final20 = final19.replace(\"...\",'')\n",
    "    final21 = final20.replace(\"—\",'')\n",
    "    final22 = final21.replace(\")\",'')\n",
    "    final23 = final22.replace(\"(\",'')\n",
    "    final24 = final23.replace('\"','')\n",
    "    final25 = final24.replace(\"′\",'')\n",
    "    final_news.append(final25)\n",
    "final_news[54]"
   ]
  },
  {
   "cell_type": "code",
   "execution_count": 11,
   "metadata": {},
   "outputs": [],
   "source": [
    "import csv\n",
    "\n",
    "fields=final_news\n",
    "for i in range(len(final_news)):\n",
    "    f=open(f'social{i}.txt','a')\n",
    "    f.write(final_news[i])\n",
    "    f.close()"
   ]
  },
  {
   "cell_type": "code",
   "execution_count": null,
   "metadata": {},
   "outputs": [],
   "source": []
  }
 ],
 "metadata": {
  "kernelspec": {
   "display_name": "Python 3",
   "language": "python",
   "name": "python3"
  },
  "language_info": {
   "codemirror_mode": {
    "name": "ipython",
    "version": 3
   },
   "file_extension": ".py",
   "mimetype": "text/x-python",
   "name": "python",
   "nbconvert_exporter": "python",
   "pygments_lexer": "ipython3",
   "version": "3.8.5"
  }
 },
 "nbformat": 4,
 "nbformat_minor": 4
}

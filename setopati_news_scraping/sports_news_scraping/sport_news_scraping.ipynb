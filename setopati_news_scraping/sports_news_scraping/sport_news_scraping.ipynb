{
 "cells": [
  {
   "cell_type": "code",
   "execution_count": 1,
   "metadata": {},
   "outputs": [
    {
     "name": "stdout",
     "output_type": "stream",
     "text": [
      "['https://en.setopati.com/khelkud/144960', 'https://en.setopati.com/khelkud/143548', 'https://en.setopati.com/khelkud/140006', 'https://en.setopati.com/khelkud/131427', 'https://en.setopati.com/khelkud/130517', 'https://en.setopati.com/khelkud/130454', 'https://en.setopati.com/khelkud/124076', 'https://en.setopati.com/khelkud/121788', 'https://en.setopati.com/khelkud/119555', 'https://en.setopati.com/khelkud/118113', 'https://en.setopati.com/khelkud/117818', 'https://en.setopati.com/khelkud/117611', 'https://en.setopati.com/khelkud/115877', 'https://en.setopati.com/khelkud/115636', 'https://en.setopati.com/khelkud/115547', 'https://en.setopati.com/khelkud/115069', 'https://en.setopati.com/khelkud/114753', 'https://en.setopati.com/khelkud/114724', 'https://en.setopati.com/khelkud/114534', 'https://en.setopati.com/khelkud/114523', 'https://en.setopati.com/khelkud/114451', 'https://en.setopati.com/khelkud/113546', 'https://en.setopati.com/khelkud/113516', 'https://en.setopati.com/khelkud/113390', 'https://en.setopati.com/khelkud/47471']\n"
     ]
    },
    {
     "name": "stderr",
     "output_type": "stream",
     "text": [
      "C:\\Users\\s4499\\anaconda3\\lib\\site-packages\\bs4\\__init__.py:417: MarkupResemblesLocatorWarning: \"https://en.setopati.com/khelkud\" looks like a URL. Beautiful Soup is not an HTTP client. You should probably use an HTTP client like requests to get the document behind the URL, and feed that document to Beautiful Soup.\n",
      "  warnings.warn(\n"
     ]
    }
   ],
   "source": [
    "from bs4 import BeautifulSoup\n",
    "import requests\n",
    "links=[]\n",
    "#n=int(input(\"enter page no = \"))\n",
    "#for i in range(1,n+1):\n",
    "url= BeautifulSoup(f'https://en.setopati.com/khelkud', 'html.parser')\n",
    "\n",
    "response=requests.get(url)\n",
    "data=response.text\n",
    "\n",
    "soup=BeautifulSoup(data,'lxml')\n",
    "\n",
    "raw_data=soup.find_all(\"div\",class_=\"items col-md-4\")\n",
    "raw_data=raw_data[0:-3]\n",
    "    #raw_string=raw_data.text\n",
    "    \n",
    "for index in raw_data:\n",
    "    j=index.find_all('a')\n",
    "    k=j[0].get('href')\n",
    "    links.append(k)\n",
    "print(links)\n",
    "  "
   ]
  },
  {
   "cell_type": "code",
   "execution_count": 2,
   "metadata": {},
   "outputs": [
    {
     "data": {
      "text/plain": [
       "25"
      ]
     },
     "execution_count": 2,
     "metadata": {},
     "output_type": "execute_result"
    }
   ],
   "source": [
    "len(links)"
   ]
  },
  {
   "cell_type": "code",
   "execution_count": 3,
   "metadata": {},
   "outputs": [
    {
     "name": "stderr",
     "output_type": "stream",
     "text": [
      "C:\\Users\\s4499\\anaconda3\\lib\\site-packages\\bs4\\__init__.py:417: MarkupResemblesLocatorWarning: \"https://en.setopati.com/khelkud/144960\" looks like a URL. Beautiful Soup is not an HTTP client. You should probably use an HTTP client like requests to get the document behind the URL, and feed that document to Beautiful Soup.\n",
      "  warnings.warn(\n",
      "C:\\Users\\s4499\\anaconda3\\lib\\site-packages\\bs4\\__init__.py:417: MarkupResemblesLocatorWarning: \"https://en.setopati.com/khelkud/143548\" looks like a URL. Beautiful Soup is not an HTTP client. You should probably use an HTTP client like requests to get the document behind the URL, and feed that document to Beautiful Soup.\n",
      "  warnings.warn(\n",
      "C:\\Users\\s4499\\anaconda3\\lib\\site-packages\\bs4\\__init__.py:417: MarkupResemblesLocatorWarning: \"https://en.setopati.com/khelkud/140006\" looks like a URL. Beautiful Soup is not an HTTP client. You should probably use an HTTP client like requests to get the document behind the URL, and feed that document to Beautiful Soup.\n",
      "  warnings.warn(\n",
      "C:\\Users\\s4499\\anaconda3\\lib\\site-packages\\bs4\\__init__.py:417: MarkupResemblesLocatorWarning: \"https://en.setopati.com/khelkud/131427\" looks like a URL. Beautiful Soup is not an HTTP client. You should probably use an HTTP client like requests to get the document behind the URL, and feed that document to Beautiful Soup.\n",
      "  warnings.warn(\n",
      "C:\\Users\\s4499\\anaconda3\\lib\\site-packages\\bs4\\__init__.py:417: MarkupResemblesLocatorWarning: \"https://en.setopati.com/khelkud/130517\" looks like a URL. Beautiful Soup is not an HTTP client. You should probably use an HTTP client like requests to get the document behind the URL, and feed that document to Beautiful Soup.\n",
      "  warnings.warn(\n",
      "C:\\Users\\s4499\\anaconda3\\lib\\site-packages\\bs4\\__init__.py:417: MarkupResemblesLocatorWarning: \"https://en.setopati.com/khelkud/130454\" looks like a URL. Beautiful Soup is not an HTTP client. You should probably use an HTTP client like requests to get the document behind the URL, and feed that document to Beautiful Soup.\n",
      "  warnings.warn(\n",
      "C:\\Users\\s4499\\anaconda3\\lib\\site-packages\\bs4\\__init__.py:417: MarkupResemblesLocatorWarning: \"https://en.setopati.com/khelkud/124076\" looks like a URL. Beautiful Soup is not an HTTP client. You should probably use an HTTP client like requests to get the document behind the URL, and feed that document to Beautiful Soup.\n",
      "  warnings.warn(\n",
      "C:\\Users\\s4499\\anaconda3\\lib\\site-packages\\bs4\\__init__.py:417: MarkupResemblesLocatorWarning: \"https://en.setopati.com/khelkud/121788\" looks like a URL. Beautiful Soup is not an HTTP client. You should probably use an HTTP client like requests to get the document behind the URL, and feed that document to Beautiful Soup.\n",
      "  warnings.warn(\n",
      "C:\\Users\\s4499\\anaconda3\\lib\\site-packages\\bs4\\__init__.py:417: MarkupResemblesLocatorWarning: \"https://en.setopati.com/khelkud/119555\" looks like a URL. Beautiful Soup is not an HTTP client. You should probably use an HTTP client like requests to get the document behind the URL, and feed that document to Beautiful Soup.\n",
      "  warnings.warn(\n",
      "C:\\Users\\s4499\\anaconda3\\lib\\site-packages\\bs4\\__init__.py:417: MarkupResemblesLocatorWarning: \"https://en.setopati.com/khelkud/118113\" looks like a URL. Beautiful Soup is not an HTTP client. You should probably use an HTTP client like requests to get the document behind the URL, and feed that document to Beautiful Soup.\n",
      "  warnings.warn(\n",
      "C:\\Users\\s4499\\anaconda3\\lib\\site-packages\\bs4\\__init__.py:417: MarkupResemblesLocatorWarning: \"https://en.setopati.com/khelkud/117818\" looks like a URL. Beautiful Soup is not an HTTP client. You should probably use an HTTP client like requests to get the document behind the URL, and feed that document to Beautiful Soup.\n",
      "  warnings.warn(\n",
      "C:\\Users\\s4499\\anaconda3\\lib\\site-packages\\bs4\\__init__.py:417: MarkupResemblesLocatorWarning: \"https://en.setopati.com/khelkud/117611\" looks like a URL. Beautiful Soup is not an HTTP client. You should probably use an HTTP client like requests to get the document behind the URL, and feed that document to Beautiful Soup.\n",
      "  warnings.warn(\n",
      "C:\\Users\\s4499\\anaconda3\\lib\\site-packages\\bs4\\__init__.py:417: MarkupResemblesLocatorWarning: \"https://en.setopati.com/khelkud/115877\" looks like a URL. Beautiful Soup is not an HTTP client. You should probably use an HTTP client like requests to get the document behind the URL, and feed that document to Beautiful Soup.\n",
      "  warnings.warn(\n",
      "C:\\Users\\s4499\\anaconda3\\lib\\site-packages\\bs4\\__init__.py:417: MarkupResemblesLocatorWarning: \"https://en.setopati.com/khelkud/115636\" looks like a URL. Beautiful Soup is not an HTTP client. You should probably use an HTTP client like requests to get the document behind the URL, and feed that document to Beautiful Soup.\n",
      "  warnings.warn(\n",
      "C:\\Users\\s4499\\anaconda3\\lib\\site-packages\\bs4\\__init__.py:417: MarkupResemblesLocatorWarning: \"https://en.setopati.com/khelkud/115547\" looks like a URL. Beautiful Soup is not an HTTP client. You should probably use an HTTP client like requests to get the document behind the URL, and feed that document to Beautiful Soup.\n",
      "  warnings.warn(\n",
      "C:\\Users\\s4499\\anaconda3\\lib\\site-packages\\bs4\\__init__.py:417: MarkupResemblesLocatorWarning: \"https://en.setopati.com/khelkud/115069\" looks like a URL. Beautiful Soup is not an HTTP client. You should probably use an HTTP client like requests to get the document behind the URL, and feed that document to Beautiful Soup.\n",
      "  warnings.warn(\n",
      "C:\\Users\\s4499\\anaconda3\\lib\\site-packages\\bs4\\__init__.py:417: MarkupResemblesLocatorWarning: \"https://en.setopati.com/khelkud/114753\" looks like a URL. Beautiful Soup is not an HTTP client. You should probably use an HTTP client like requests to get the document behind the URL, and feed that document to Beautiful Soup.\n",
      "  warnings.warn(\n",
      "C:\\Users\\s4499\\anaconda3\\lib\\site-packages\\bs4\\__init__.py:417: MarkupResemblesLocatorWarning: \"https://en.setopati.com/khelkud/114724\" looks like a URL. Beautiful Soup is not an HTTP client. You should probably use an HTTP client like requests to get the document behind the URL, and feed that document to Beautiful Soup.\n",
      "  warnings.warn(\n",
      "C:\\Users\\s4499\\anaconda3\\lib\\site-packages\\bs4\\__init__.py:417: MarkupResemblesLocatorWarning: \"https://en.setopati.com/khelkud/114534\" looks like a URL. Beautiful Soup is not an HTTP client. You should probably use an HTTP client like requests to get the document behind the URL, and feed that document to Beautiful Soup.\n",
      "  warnings.warn(\n",
      "C:\\Users\\s4499\\anaconda3\\lib\\site-packages\\bs4\\__init__.py:417: MarkupResemblesLocatorWarning: \"https://en.setopati.com/khelkud/114523\" looks like a URL. Beautiful Soup is not an HTTP client. You should probably use an HTTP client like requests to get the document behind the URL, and feed that document to Beautiful Soup.\n",
      "  warnings.warn(\n",
      "C:\\Users\\s4499\\anaconda3\\lib\\site-packages\\bs4\\__init__.py:417: MarkupResemblesLocatorWarning: \"https://en.setopati.com/khelkud/114451\" looks like a URL. Beautiful Soup is not an HTTP client. You should probably use an HTTP client like requests to get the document behind the URL, and feed that document to Beautiful Soup.\n",
      "  warnings.warn(\n",
      "C:\\Users\\s4499\\anaconda3\\lib\\site-packages\\bs4\\__init__.py:417: MarkupResemblesLocatorWarning: \"https://en.setopati.com/khelkud/113546\" looks like a URL. Beautiful Soup is not an HTTP client. You should probably use an HTTP client like requests to get the document behind the URL, and feed that document to Beautiful Soup.\n",
      "  warnings.warn(\n",
      "C:\\Users\\s4499\\anaconda3\\lib\\site-packages\\bs4\\__init__.py:417: MarkupResemblesLocatorWarning: \"https://en.setopati.com/khelkud/113516\" looks like a URL. Beautiful Soup is not an HTTP client. You should probably use an HTTP client like requests to get the document behind the URL, and feed that document to Beautiful Soup.\n",
      "  warnings.warn(\n",
      "C:\\Users\\s4499\\anaconda3\\lib\\site-packages\\bs4\\__init__.py:417: MarkupResemblesLocatorWarning: \"https://en.setopati.com/khelkud/113390\" looks like a URL. Beautiful Soup is not an HTTP client. You should probably use an HTTP client like requests to get the document behind the URL, and feed that document to Beautiful Soup.\n",
      "  warnings.warn(\n",
      "C:\\Users\\s4499\\anaconda3\\lib\\site-packages\\bs4\\__init__.py:417: MarkupResemblesLocatorWarning: \"https://en.setopati.com/khelkud/47471\" looks like a URL. Beautiful Soup is not an HTTP client. You should probably use an HTTP client like requests to get the document behind the URL, and feed that document to Beautiful Soup.\n",
      "  warnings.warn(\n"
     ]
    },
    {
     "data": {
      "text/plain": [
       "['                          An international level Karate tournament is being held for the first time in Chitwan.The 3rd IndoNepal Karate tournament is being held under the auspices of the Japan Gojuriyo Karate Do Kenwakai Nepal Association Chitwan chapter.The event will take place at Mangalpur in Bharatpur metropolis15 from May 2 to 4, according to the tournament coordinator Pushpa Acharya.Some 400 athletes from Nepal and India are taking part in the tournament.Those include 350 athletes from various districts of Nepal and 50 from India. The competition will be held in various age and weight categories, as well as open category.',\n",
       " '                          Fiftyfive athletes will be competing in paragliding under the Eighth National Games scheduled at different places of state 5 from April 18.According to the National Sports Council, the paragliding competition would be organized at Pokhara from April 19 as there are no physical infrastructures in state 5 for the same.Paragliding has been included in the National Games for the first time in its history.General Secretary at the Nepal Paragliding and Hang Gliding Association, Shailendra Raut, said that Nepal Army and 46 men and nine women would compete for six gold medals.A team of 14 athletes including 10 men and four women from Tribhuvan Army Club are competing in paragliding.',\n",
       " '                          Constructions and renovations of sports ground are taking place in all nine districts of Far West Province.The construction of sports ground is taking place in different 32 places of the Far West Province.In this connection, provincial Ministry of Social Development shared that it has allocated Rs 64 million in the current fiscal year for the construction of sports ground.The budget appropriation was made so as to construct sports ground in all 32 province assembly constituency at the unit rate of Rs 2 million.Kisan Raj Chituwal, Under Secretary, Youth and Sports Division at Ministry of Social Development, said the task of the construction of ground would be completed by coming midJuly.The spots fort he construction of grounds were selected based on the recommendation of elected province assembly member of the Far West Province.',\n",
       " '                          A Nepali football team today left for Bangladesh to take part in the Bangabandhu Gold Cup Football Tournament.All Nepal Football Association ANFA president Karma Chhiring Sherpa bade farewell to the team amidst a program at the ANFA complex at Satdobato before their departure.Nepal is placed in group  A alongside Tajikistan and Palestine while the group B comprises host Bangladesh and Philippines. Nepal will face Tajikistan for its first match on coming October 2 and Palestine on October 6The national team includes Bikesh Kuthu, Alen Neupane, goal keeper Bishal Shrestha and Captain Biraj Maharjan. Other players are Dinesh Rajbanshi, Devendra Tamang, Ananta Tamang, Aditya Chaudhary, Tej Tamang, Suman Aryal, Hemant Thapa Magar, Heman Gurung, Bishal Rai, Sunil Bal, Sujal Shrestha, Nirajan Khadka, Bharat Khawas, Bimal Gharti Magar, Nawayug Shrestha and Anjan Bista.',\n",
       " '                          The Nepali weightlifting team competing in the World University Weightlifting Championship left here for Poland last night. The four member team includes two weightlifters and two officials.Ganesh Ranabhat is competing in the 56 kilo mens category while Manisha Ranabhat will be vying for a medal in the 53 kg womens category in the event to be held in Poland from September 20 to 23.The team also includes President of University Sports Association Chair Pradip Joshi and coach Sangam Singh Thapa.',\n",
       " '                          The 22nd National Womens Volleyball Tournament is scheduled to take place at Galkot in Baglung from October 913.To be organized by the Nepal Volleyball Association with the assistance from Galkot Municipality and the District Volleyball Association, Baglung, the total 10 teams from all seven provinces will participate, said the district volleyball associations President Yam Shrish.The total expenditure to run the tournament is expected to be Rs 2 million. The contest will help promote commercial sports as well as help boost sport tourism, said Shrish at an event organized to inform about the competition. The participating teams will be categorized into two groups. The best 24 players will be inducted into the national team, said the volleyball association.The winner will be given Rs 50,000 in cash, while first runner up Rs 30,000 and second runner up Rs 20,000. The best player will be handed out Rs 10,000.',\n",
       " '                          In order to spread the skating sports across the country by encouraging the youth, the first international level Skating Festival is to be held in Palpa of Province No. 5 from June 19.Players of skating from the Maldives, India and other countries would also attend the threedaylong festival and the skating would be held on June 21.Chairman of organizing committee Jagrit Pahadi said that the winning teams both under the men and womens categories would be provided with cash prize. Likewise, Players to Watch would also be prized in the tournament.The nationallevel staking festival event was organized in the capital last year.',\n",
       " '                          The entry fee for the participants of the international marathon to be organized in the Langtang trekking route has been fixed.According to Jeevan Thapa Magar, the First Vicepresident of Trekking Agencies Association of Nepal TAAN, Rs 2,500 has been fixed as the entry fee for the Nepali participants and 75 US Dollars for foreigners.The marathon is being organized by TAAN and it will take place on May 19. The 42km marathon will take place at an altitude of 3,900 meters from the mean sea level from Kyangjin of Langtang to Syafrubesi via Sherpa Gaon.The winners of the marathon will be given prizes under the male and female category. The athlete coming out first will get a prize of Rs one million five thousand, the second position holder Rs 78,000 and the third position holder Rs 52,000.It is stated that more than 100 athletes will participate in this highaltitude marathon which is taking place for the third time.',\n",
       " '                          In a bid to promote sports tourism in the district, the second Jhiltung Cross Country Open Race Competition was organized in Belkotgadhi municipality5 in Nuwakot on Sunday.National and locallevel athletes joined the tournament organized by Leo Club of Nuwakot Paropakar and other organizations.Two different categories of women and men were held in the competition. In mens category of 13.4 km race, Bhumi Raj Rai, Kiran Bogati and Bibek Rai emerged first, second and third, respectively.Likewise, Kanchhi Maya Kojoo, Pushpa Bhandari and Rajpura Pachhai stood first, second and third, respectively.The winner received Rs 15,000 in cash while second and third got Rs 10,000 and Rs 5,000 in cash.Similarly, 29 runners took part in the Cross Country Run for Fun.',\n",
       " '                          Malpi Institute A has won the 3rd Kasthamandap Cup Inter A level 3x3 tournament.In the final match Monday, Malpi defeated Kasthamandap by 126 to life the title. Prasanga Dwaj Maskey topscored with 10 points for Malpi.Prasanga was also announced the most valuable player of the tournament.A total of 8 teams had contested in the threeday competition.',\n",
       " '                          The National Sports Council NSC has unveiled a logo mascot, official song and slogan for the eighth National Games scheduled to be held late this year NovemberDecember in Nepalgunj.An elephant calf has been chosen as the games mascot while the Eighth games in our province, sweat and toil in own country is the official theme. NSC member secretary Keshab Kumar Bista made public the logo, mascot, song and slogan for the games amidst a ceremony here Tuesday.Meanwhile, a volleyball stadium going to be constructed at Sitapur of Khajure rural municipality and it is said the stadium will be of the countrys first advanced volleyball facility. NSC member secretary Bista laid a foundation for a new structure Tuesday itself.',\n",
       " '                          The second edition of KhotangHalesi Open International Karate Championship is to be held in Diktel, Khotang on May 35, 2018.The Karate event is to be organized by Nepal Shitoryu Karate Association Khotang.The Association has intensified its preparation for the championship event which is estimated to be conducted at the cost of around Rs 5 million.A main championship organizing committee has been formed under the leadership of Khotang District Coordination Committee Chairperson Babi Chamling.Karate athletes from Nepal, India, Bhutan, Sri Lanka and Bangladesh are participating in the championship, shared Association Khotang Chapter Chair Sanjaya Kumar Rai.',\n",
       " '                          A 14member national cricket team has been formed for the ICC World Cricket League Division Two under the leadership of Nepali cricket team captain Paras Khadka. The tournament is to be held in Namibia next month.The players have been selected from among 21 players chosen in the first phase by ICCs representative Aminul Islam, head coach of the Nepali cricket team Jagat Tamata and Khadka.The other team members include Gynendra Malla deputy captain, Shakti Gauchan, Basanta Regmi, Sharad Bheshwakar, Sompal Kami, Karan KC, Mohammad Aarif Shekh, Dipendra Singh Airee, Sandip Lamichhane, Dilip Nath, Lalit Singh Bhandari, Anil Kumar Shah, Rohit Kumar Poudel and replacement players Sunil Dhamala, Lalit Narayan Rajbamshi, Kishor Mahato and Siddhanta Lohani.Of the players, Shah and Poudel, who have already performed in the EPL 20Twenty held last month, are new face to be incorporated in the national team.Before heading to Namibia on scheduled February 4 to play ICC World Cricket League Division Two scheduled to start from February 8, the Nepali team will go to UAE on January 27 for practice matches.',\n",
       " '                          The Central Region has clinched the first position in the 10th National Soft Tennis Championship, winning three gold, two silver and three bronze medals. The championship that started on January 18 concluded here on Monday.Similarly, the Eastern Region claimed the second position with three gold and one silver medal while the Midwestern Region came in the third position winning a silver and two bronze medals.Eightytwo players from the Eastern Region, Central Region, Western Region, Midwestern Region, Farwestern Region and the Armed Police Force teams had participated in the championship. The championship was organized by the Morang District Soft Tennis Association.President of the Eastern Region Sports Development Committee Rabin Nagarkoti handed the prizes and certificates to the winners.',\n",
       " '                          The Second Khukuri Challenge T20 Cup Cricket Championship is starting from this week.The championship being organized by Khukuri ENT will be held from January 24 to February 17. The matches under the championship would be held at the international cricket ground at Kirtipur and the Mulpani cricket ground.All the preparations for the championship have been made, said Binaya Bikram Thapa, Chairman of ENT, the championship organizing body, at a news conference here on Sunday.Twenty teams will compete in four groups under the championship. Each team can include four players playing in the national team since 2015. However, only three national players can play in one match.The winner team will bag 300,000 rupees prize while the first runnerup team will get 100,000 rupees. Likewise, the best player will get Rs 20,000 while the best bowler and batsman will get Rs 10,000 each.',\n",
       " '                          The First Nationallevel Football Championship is taking place in Melamchi of Sindhupalchok district on Tuesday.The football matches under the Championship will be held at Bahunepati of Melamchi Municipality12.Melamchi Youth Club is organizing the championship with a theme Sports for Health and Sports for the Nation.Football teams from across the country will be competing in the championship, the event coordinator Suren Shrestha said. According to him, so far seven teams have registered for their participation and more are coming. The Championship will be held till January 20.The teams coming out first, second and third in the tournament will bag Rs 60,000, Rs 35,000 and Rs 15,000 respectively as well as the shield, medals and certificates.Similarly, the players declared the best player, the best goalkeeper, the best defender and highest number of goal scorer will each get cash Rs 3,000.',\n",
       " '                          The international skiing competition is to be held in Muktinath area of Mustang late this year with a view to promoting the countrys mountain tourism.Information about this was shared at a press meet here Wednesday. The Himalayan Skiing Trek is coordinating the event.International skier Krishna Thapa of Nepal will facilitate the competition. Skiing training are being held in Muktinath, Gosaikundra and Dhaulagiri areas in the first week of January every year and this time over 60 youths including from Nepal attended such training, it is said.',\n",
       " '                          Eighth Womens and 23rd Mens National Weightlifting Competition under National Sports Council Championship has begun at a hall of Pokhara Chamber of Commerce and Industry from Wednesday.Nepal Weightlifting Association and District Weightlifting Association has organized the threeday competition.A total of 182 male and female players from Nepal Police, Armed Police Force and Nepali Army and 28 districts are participating in the competition. The players have been divided into nine weight groups each towards male and female categories.ViceChairperson of District Weightlifting Association Umesh CKsaid that the best players would be selected from this competition for their participation in South Asian Games scheduled in 2019 in Nepal.',\n",
       " '                          Mens and Womens Third National KhoKho Championship under National Sports Council Championship is going to be held from January 17.Nepal KhoKho Association General Secretary Sanuraj Shakya said that the threeday Championship is to be held at Gurans playground at Kanchan rural municipality3 of Rupendehi.A total of 12 male and female teams of five development regions and Nepal Army would compete in the Championship.Shakya said that a national team would be selected from this Championship to participate in the 13th South Asian Games scheduled in Kathmandu in 2019.',\n",
       " '                          The 12th South Asian Sevenaside Football Championship is going to be organized in Pokhara from January 13 to 18.Speaking at a press meet organized here Monday, President of Nepal Sevenaside Football Federation, Nabin Pun said that all the preparation for the Championship has been completed. Players from Nepal, India, Bangladesh, Maldives, Bhutan and Pakistan will participate in the Championship.The Championship will be held at Barahighat playground at Lakeside of PokharaLekhnath Metropolis6. The winner and firstrunner up the team would bag 2,000 US dollars and 1,000 US dollars respectively.',\n",
       " '                          42nd National Athletic Championship has begun at the Sports City Ground here today.A total of 187 athletes are participating in the Championship. Nepal Athletics Association has organized the threeday Championship in coordination with Morang Athletics Association.Inaugurating the Championship, MemberSecretary of the National Sports Council Keshav Kumar Bista said that the government has shown its interest in the development of the sports sector.He also shared that Madan Bhandari International Invitational Gold Cup Football tournament, that carries the highest amount of prize money in the country, is going to be held at the Itaharibased Stadium.Various games including 100 meters, 200 meters, 400 meters race as well as high jump, long jump, triple jump, among other games are being held in the Championship.',\n",
       " '                          The 21st womens and 31st mens national volleyball tournament is beginning here from tomorrow. The tournament to run until December 29 is organized by the Nepal Volley Ball Association with the support of Nepal Sports Council and the Western Region Volley Ball Association.A total of 8 teams including from western, central, far western, midwestern and eastern region, and the three departmental teams comprising the Nepal Police, Armed Police and the Nepal Army are taking part in the tournament, according to the tournament coordinator Raj Kumar Gurung.The winner in both the mens and womens category will win a cash prize of Rs 50,000 while the second and third will walk home with Rs 30,000 and Rs 20,000 respectively.',\n",
       " '                          Province 4 Mayor Cup Football Tournament2074 will take place in the district from January 30 to February 7.To be organized by the Baglung municipality, the venue for the competition will be at Bangechaur and Bhakunde football ground.All municipalities within the province have been asked to participate, said Mayor of Baglung Municipality Janakraj Poudel. The competition aims to develop football culture. We hope that it would encourage athletes and sports sector as a whole, he said. Football teams from more than 12 municipalities are expected to take part.The winner will receive a trophy and Rs 222,222 in cash, while the first runnerup a trophy and cash prize of Rs 111,111.The best player will be handed out the cash prize of Rs 10,000. Likewise, best goalkeeper, best defender, best striker and coach will be honored with Rs 5,000 each.',\n",
       " '                          Nepal has slipped one step to the 171st position in the latest FIFA rankings. Nepal was ranked the 170th position in the last rankings.Among the South Asian countries where Nepal falls into the fourth position, India tops the rankings securing the 105th position. Likewise, Afghanistan comes second in the 148th position followed by Maldives in the 155th position.Similarly, Bhutan has got the 187th position followed by Bangladesh in the 197th position. Sri Lanka has attained the 200th position and Pakistan the 201st position.Germany is in the first position followed by Brazil, Portugal, Argentina, Belgium, Spain, Poland, Switzerland, France and Chile in the second, third, fourth, fifth, sixth, seventh, eighth, ninth and 10th positions respectively.',\n",
       " '                          Indian wrestlers have clinched the title of the NepalIndia International Wrestling Championship held in Nawalparasi.The wrestling competition was held as part of the Thadighat fair at Paklihawa, Susta rural municipality5 on Saturday.Om Prakash Pahalwan of Gazhiabad and Shailesh Pahalwan of Maharajgunj of India jointly lifted the title of the competition.The wrestlers coming out first in the championship have been awarded with Rs 6,000 cash prize and a TV set each. Similarly, the wrestler standing in the second position got Rs 4,000 and a TV set and the player standing in third position Rs 2,000 and a bicycle.Former lawmaker Devkaran Prasad Kalwar gave away the awards to the winners. A total 42 pairs of wrestlers had competed.']"
      ]
     },
     "execution_count": 3,
     "metadata": {},
     "output_type": "execute_result"
    }
   ],
   "source": [
    "from bs4 import BeautifulSoup\n",
    "import requests\n",
    "final_news = []\n",
    "for i in links:\n",
    "    url = BeautifulSoup(i, 'html.parser')\n",
    "    response = requests.get(url)\n",
    "    data = response.text\n",
    "    data = BeautifulSoup(data,'lxml')\n",
    "    raw_data = data.find(\"div\", class_=\"editor-box\")\n",
    "    raw_string = raw_data.text\n",
    "    final = raw_string.replace('\\n','')\n",
    "    final1 = final.replace('%','')\n",
    "    final2 = final1.replace('$','')\n",
    "    final3 = final2.replace('”','')\n",
    "    final4 = final3.replace('’','')\n",
    "    final5 = final4.replace('&','')\n",
    "    final6 = final5.replace(\"“\",'')\n",
    "    final7 = final6.replace(\"\\xa0\",'')\n",
    "    final8 = final7.replace(\";\",'')\n",
    "    final9 = final8.replace(\":\",'')\n",
    "    final10 = final9.replace(\"?\",'')\n",
    "    final11 = final10.replace(\"\",'')\n",
    "    final12 = final11.replace(\"\\r\",'')\n",
    "    final13 = final12.replace(\"″\",'')\n",
    "    final14 = final13.replace(\"-\",'')\n",
    "    final15 = final14.replace(\"/\",'')\n",
    "    final16 = final15.replace(\"\\'\",'')\n",
    "    final17 = final16.replace(\"!\",'')\n",
    "    final18 = final17.replace(\"@\",'')\n",
    "    final19 = final18.replace(\"___\",'')\n",
    "    final20 = final19.replace(\"...\",'')\n",
    "    final21 = final20.replace(\"—\",'')\n",
    "    final22 = final21.replace(\")\",'')\n",
    "    final23 = final22.replace(\"(\",'')\n",
    "    final24 = final23.replace('\"','')\n",
    "    final25 = final24.replace(\"′\",'')\n",
    "    final_news.append(final25)\n",
    "final_news"
   ]
  },
  {
   "cell_type": "code",
   "execution_count": 4,
   "metadata": {},
   "outputs": [],
   "source": [
    "import csv\n",
    "\n",
    "fields=final_news\n",
    "for i in range(len(final_news)):\n",
    "    f=open(f'sports{i}.txt','a')\n",
    "    f.write(final_news[i])\n",
    "    f.close()"
   ]
  },
  {
   "cell_type": "code",
   "execution_count": null,
   "metadata": {},
   "outputs": [],
   "source": []
  }
 ],
 "metadata": {
  "kernelspec": {
   "display_name": "Python 3",
   "language": "python",
   "name": "python3"
  },
  "language_info": {
   "codemirror_mode": {
    "name": "ipython",
    "version": 3
   },
   "file_extension": ".py",
   "mimetype": "text/x-python",
   "name": "python",
   "nbconvert_exporter": "python",
   "pygments_lexer": "ipython3",
   "version": "3.8.5"
  }
 },
 "nbformat": 4,
 "nbformat_minor": 4
}

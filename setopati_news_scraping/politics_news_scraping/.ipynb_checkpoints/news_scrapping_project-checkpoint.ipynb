{
 "cells": [
  {
   "cell_type": "code",
   "execution_count": 23,
   "metadata": {},
   "outputs": [],
   "source": [
    "#from bs4 import BeautifulSoup\n",
    "#import requests\n",
    "#url= BeautifulSoup(f'https://en.setopati.com/political', 'html.parser')\n",
    "#response=requests.get(url)\n",
    "#print(response)"
   ]
  },
  {
   "cell_type": "code",
   "execution_count": 24,
   "metadata": {},
   "outputs": [],
   "source": [
    "#data=response.text\n",
    "#data"
   ]
  },
  {
   "cell_type": "code",
   "execution_count": 25,
   "metadata": {},
   "outputs": [],
   "source": [
    "#data=BeautifulSoup(data,'lxml')\n",
    "#data"
   ]
  },
  {
   "cell_type": "code",
   "execution_count": 26,
   "metadata": {},
   "outputs": [],
   "source": [
    "#raw_data=data.find_all(\"div\",class_=\"items col-md-4\")\n",
    "#raw_data"
   ]
  },
  {
   "cell_type": "code",
   "execution_count": 27,
   "metadata": {},
   "outputs": [],
   "source": [
    "#raw_data=raw_data[0:-3]\n",
    "#raw_data"
   ]
  },
  {
   "cell_type": "code",
   "execution_count": 28,
   "metadata": {},
   "outputs": [],
   "source": [
    "#links=[]\n",
    "#for a in soup.find_all('a'):\n",
    "    #b=a.get('href')\n",
    "    #links.append(b)\n",
    "#print(links[7:15])\n",
    "#print(links[19:-1])\n",
    "#print(links)"
   ]
  },
  {
   "cell_type": "code",
   "execution_count": 29,
   "metadata": {},
   "outputs": [],
   "source": [
    "#links = []\n",
    "#for i in raw_data:\n",
    "   #k = j[0].get('href')\n",
    "    #links.append(k)\n",
    "#print(links)"
   ]
  },
  {
   "cell_type": "code",
   "execution_count": 30,
   "metadata": {
    "scrolled": true
   },
   "outputs": [],
   "source": [
    "#from bs4 import BeautifulSoup\n",
    "#import requests\n",
    "#url = BeautifulSoup('https://en.setopati.com/political/155348', 'html.parser')\n",
    "\n",
    "\n",
    "#response = requests.get(url)\n",
    "#data = response.text\n",
    "#data = BeautifulSoup(data,'lxml')\n",
    "\n",
    "\n",
    "#raw_data = data.find(\"div\", class_=\"editor-box\")\n",
    "\n",
    "#raw_string = raw_data.text\n",
    "#raw_string.replace('\\n','')\n"
   ]
  },
  {
   "cell_type": "code",
   "execution_count": 42,
   "metadata": {
    "scrolled": false
   },
   "outputs": [],
   "source": [
    "#from bs4 import BeautifulSoup\n",
    "#import requests\n",
    "#final_news = []\n",
    "#for i in links:\n",
    "  #  url = BeautifulSoup(i, 'html.parser')\n",
    "   # response = requests.get(url)\n",
    "    #data = response.text\n",
    "    #data = BeautifulSoup(data,'lxml')\n",
    "    #raw_data = data.find(\"div\", class_=\"editor-box\")\n",
    "    #raw_string = raw_data.text\n",
    "    #final = raw_string.replace('\\n','')\n",
    "    #final_news.append(final)\n"
   ]
  },
  {
   "cell_type": "code",
   "execution_count": 32,
   "metadata": {},
   "outputs": [],
   "source": [
    "#final_news"
   ]
  },
  {
   "cell_type": "code",
   "execution_count": 13,
   "metadata": {},
   "outputs": [],
   "source": [
    "#import csv\n",
    "\n",
    "#fields=final_news\n",
    "#for i in range(29):\n",
    "    #f=open(f'political{i}.txt','a')\n",
    "    #f.write(final_news[i])\n",
    "    #f.close()"
   ]
  },
  {
   "cell_type": "code",
   "execution_count": 2,
   "metadata": {},
   "outputs": [
    {
     "name": "stdout",
     "output_type": "stream",
     "text": [
      "enter page no = 2\n"
     ]
    },
    {
     "name": "stderr",
     "output_type": "stream",
     "text": [
      "C:\\Users\\s4499\\anaconda3\\lib\\site-packages\\bs4\\__init__.py:417: MarkupResemblesLocatorWarning: \"https://en.setopati.com/political?page=1\" looks like a URL. Beautiful Soup is not an HTTP client. You should probably use an HTTP client like requests to get the document behind the URL, and feed that document to Beautiful Soup.\n",
      "  warnings.warn(\n",
      "C:\\Users\\s4499\\anaconda3\\lib\\site-packages\\bs4\\__init__.py:417: MarkupResemblesLocatorWarning: \"https://en.setopati.com/political?page=2\" looks like a URL. Beautiful Soup is not an HTTP client. You should probably use an HTTP client like requests to get the document behind the URL, and feed that document to Beautiful Soup.\n",
      "  warnings.warn(\n"
     ]
    },
    {
     "name": "stdout",
     "output_type": "stream",
     "text": [
      "['https://en.setopati.com/political/155665', 'https://en.setopati.com/political/155663', 'https://en.setopati.com/political/155659', 'https://en.setopati.com/political/155652', 'https://en.setopati.com/political/155651', 'https://en.setopati.com/political/155650', 'https://en.setopati.com/political/155642', 'https://en.setopati.com/political/155641', 'https://en.setopati.com/political/155640', 'https://en.setopati.com/political/155635', 'https://en.setopati.com/political/155632', 'https://en.setopati.com/political/155631', 'https://en.setopati.com/political/155628', 'https://en.setopati.com/political/155627', 'https://en.setopati.com/political/155625', 'https://en.setopati.com/political/155621', 'https://en.setopati.com/political/155619', 'https://en.setopati.com/political/155618', 'https://en.setopati.com/political/155615', 'https://en.setopati.com/political/155612', 'https://en.setopati.com/political/155610', 'https://en.setopati.com/political/155607', 'https://en.setopati.com/political/155606', 'https://en.setopati.com/political/155605', 'https://en.setopati.com/political/155601', 'https://en.setopati.com/political/155599', 'https://en.setopati.com/political/155598', 'https://en.setopati.com/political/155593', 'https://en.setopati.com/political/155592', 'https://en.setopati.com/political/155586', 'https://en.setopati.com/political/155585', 'https://en.setopati.com/political/155584', 'https://en.setopati.com/political/155581', 'https://en.setopati.com/political/155579', 'https://en.setopati.com/political/155578', 'https://en.setopati.com/political/155574', 'https://en.setopati.com/political/155573', 'https://en.setopati.com/political/155572', 'https://en.setopati.com/political/155567', 'https://en.setopati.com/political/155564', 'https://en.setopati.com/political/155562', 'https://en.setopati.com/political/155558', 'https://en.setopati.com/political/155557', 'https://en.setopati.com/political/155554', 'https://en.setopati.com/political/155549', 'https://en.setopati.com/political/155547', 'https://en.setopati.com/political/155542', 'https://en.setopati.com/political/155536', 'https://en.setopati.com/political/155535', 'https://en.setopati.com/political/155534', 'https://en.setopati.com/political/155526', 'https://en.setopati.com/political/155525', 'https://en.setopati.com/political/155524', 'https://en.setopati.com/political/155520', 'https://en.setopati.com/political/155519', 'https://en.setopati.com/political/155518', 'https://en.setopati.com/political/155515', 'https://en.setopati.com/political/155512']\n"
     ]
    }
   ],
   "source": [
    "from bs4 import BeautifulSoup\n",
    "import requests\n",
    "links=[]\n",
    "n=int(input(\"enter page no = \"))\n",
    "for i in range(1,n+1):\n",
    "    url= BeautifulSoup(f'https://en.setopati.com/political?page={i}', 'html.parser').encode(\"utf-8\")\n",
    "\n",
    "    response=requests.get(url)\n",
    "    data=response.text\n",
    "\n",
    "    soup=BeautifulSoup(data,'lxml')\n",
    "\n",
    "    raw_data=soup.find_all(\"div\",class_=\"items col-md-4\")\n",
    "    raw_data=raw_data[0:-3]\n",
    "    #raw_string=raw_data.text\n",
    "    \n",
    "    for index in raw_data:\n",
    "        j=index.find_all('a')\n",
    "        k=j[0].get('href')\n",
    "        links.append(k)\n",
    "print(links)\n",
    "  "
   ]
  },
  {
   "cell_type": "code",
   "execution_count": 3,
   "metadata": {},
   "outputs": [
    {
     "data": {
      "text/plain": [
       "58"
      ]
     },
     "execution_count": 3,
     "metadata": {},
     "output_type": "execute_result"
    }
   ],
   "source": [
    "len(links)"
   ]
  },
  {
   "cell_type": "code",
   "execution_count": 4,
   "metadata": {},
   "outputs": [
    {
     "name": "stderr",
     "output_type": "stream",
     "text": [
      "C:\\Users\\s4499\\anaconda3\\lib\\site-packages\\bs4\\__init__.py:417: MarkupResemblesLocatorWarning: \"https://en.setopati.com/political/155665\" looks like a URL. Beautiful Soup is not an HTTP client. You should probably use an HTTP client like requests to get the document behind the URL, and feed that document to Beautiful Soup.\n",
      "  warnings.warn(\n",
      "C:\\Users\\s4499\\anaconda3\\lib\\site-packages\\bs4\\__init__.py:417: MarkupResemblesLocatorWarning: \"https://en.setopati.com/political/155663\" looks like a URL. Beautiful Soup is not an HTTP client. You should probably use an HTTP client like requests to get the document behind the URL, and feed that document to Beautiful Soup.\n",
      "  warnings.warn(\n",
      "C:\\Users\\s4499\\anaconda3\\lib\\site-packages\\bs4\\__init__.py:417: MarkupResemblesLocatorWarning: \"https://en.setopati.com/political/155659\" looks like a URL. Beautiful Soup is not an HTTP client. You should probably use an HTTP client like requests to get the document behind the URL, and feed that document to Beautiful Soup.\n",
      "  warnings.warn(\n",
      "C:\\Users\\s4499\\anaconda3\\lib\\site-packages\\bs4\\__init__.py:417: MarkupResemblesLocatorWarning: \"https://en.setopati.com/political/155652\" looks like a URL. Beautiful Soup is not an HTTP client. You should probably use an HTTP client like requests to get the document behind the URL, and feed that document to Beautiful Soup.\n",
      "  warnings.warn(\n",
      "C:\\Users\\s4499\\anaconda3\\lib\\site-packages\\bs4\\__init__.py:417: MarkupResemblesLocatorWarning: \"https://en.setopati.com/political/155651\" looks like a URL. Beautiful Soup is not an HTTP client. You should probably use an HTTP client like requests to get the document behind the URL, and feed that document to Beautiful Soup.\n",
      "  warnings.warn(\n",
      "C:\\Users\\s4499\\anaconda3\\lib\\site-packages\\bs4\\__init__.py:417: MarkupResemblesLocatorWarning: \"https://en.setopati.com/political/155650\" looks like a URL. Beautiful Soup is not an HTTP client. You should probably use an HTTP client like requests to get the document behind the URL, and feed that document to Beautiful Soup.\n",
      "  warnings.warn(\n",
      "C:\\Users\\s4499\\anaconda3\\lib\\site-packages\\bs4\\__init__.py:417: MarkupResemblesLocatorWarning: \"https://en.setopati.com/political/155642\" looks like a URL. Beautiful Soup is not an HTTP client. You should probably use an HTTP client like requests to get the document behind the URL, and feed that document to Beautiful Soup.\n",
      "  warnings.warn(\n",
      "C:\\Users\\s4499\\anaconda3\\lib\\site-packages\\bs4\\__init__.py:417: MarkupResemblesLocatorWarning: \"https://en.setopati.com/political/155641\" looks like a URL. Beautiful Soup is not an HTTP client. You should probably use an HTTP client like requests to get the document behind the URL, and feed that document to Beautiful Soup.\n",
      "  warnings.warn(\n",
      "C:\\Users\\s4499\\anaconda3\\lib\\site-packages\\bs4\\__init__.py:417: MarkupResemblesLocatorWarning: \"https://en.setopati.com/political/155640\" looks like a URL. Beautiful Soup is not an HTTP client. You should probably use an HTTP client like requests to get the document behind the URL, and feed that document to Beautiful Soup.\n",
      "  warnings.warn(\n",
      "C:\\Users\\s4499\\anaconda3\\lib\\site-packages\\bs4\\__init__.py:417: MarkupResemblesLocatorWarning: \"https://en.setopati.com/political/155635\" looks like a URL. Beautiful Soup is not an HTTP client. You should probably use an HTTP client like requests to get the document behind the URL, and feed that document to Beautiful Soup.\n",
      "  warnings.warn(\n",
      "C:\\Users\\s4499\\anaconda3\\lib\\site-packages\\bs4\\__init__.py:417: MarkupResemblesLocatorWarning: \"https://en.setopati.com/political/155632\" looks like a URL. Beautiful Soup is not an HTTP client. You should probably use an HTTP client like requests to get the document behind the URL, and feed that document to Beautiful Soup.\n",
      "  warnings.warn(\n",
      "C:\\Users\\s4499\\anaconda3\\lib\\site-packages\\bs4\\__init__.py:417: MarkupResemblesLocatorWarning: \"https://en.setopati.com/political/155631\" looks like a URL. Beautiful Soup is not an HTTP client. You should probably use an HTTP client like requests to get the document behind the URL, and feed that document to Beautiful Soup.\n",
      "  warnings.warn(\n",
      "C:\\Users\\s4499\\anaconda3\\lib\\site-packages\\bs4\\__init__.py:417: MarkupResemblesLocatorWarning: \"https://en.setopati.com/political/155628\" looks like a URL. Beautiful Soup is not an HTTP client. You should probably use an HTTP client like requests to get the document behind the URL, and feed that document to Beautiful Soup.\n",
      "  warnings.warn(\n",
      "C:\\Users\\s4499\\anaconda3\\lib\\site-packages\\bs4\\__init__.py:417: MarkupResemblesLocatorWarning: \"https://en.setopati.com/political/155627\" looks like a URL. Beautiful Soup is not an HTTP client. You should probably use an HTTP client like requests to get the document behind the URL, and feed that document to Beautiful Soup.\n",
      "  warnings.warn(\n",
      "C:\\Users\\s4499\\anaconda3\\lib\\site-packages\\bs4\\__init__.py:417: MarkupResemblesLocatorWarning: \"https://en.setopati.com/political/155625\" looks like a URL. Beautiful Soup is not an HTTP client. You should probably use an HTTP client like requests to get the document behind the URL, and feed that document to Beautiful Soup.\n",
      "  warnings.warn(\n",
      "C:\\Users\\s4499\\anaconda3\\lib\\site-packages\\bs4\\__init__.py:417: MarkupResemblesLocatorWarning: \"https://en.setopati.com/political/155621\" looks like a URL. Beautiful Soup is not an HTTP client. You should probably use an HTTP client like requests to get the document behind the URL, and feed that document to Beautiful Soup.\n",
      "  warnings.warn(\n",
      "C:\\Users\\s4499\\anaconda3\\lib\\site-packages\\bs4\\__init__.py:417: MarkupResemblesLocatorWarning: \"https://en.setopati.com/political/155619\" looks like a URL. Beautiful Soup is not an HTTP client. You should probably use an HTTP client like requests to get the document behind the URL, and feed that document to Beautiful Soup.\n",
      "  warnings.warn(\n",
      "C:\\Users\\s4499\\anaconda3\\lib\\site-packages\\bs4\\__init__.py:417: MarkupResemblesLocatorWarning: \"https://en.setopati.com/political/155618\" looks like a URL. Beautiful Soup is not an HTTP client. You should probably use an HTTP client like requests to get the document behind the URL, and feed that document to Beautiful Soup.\n",
      "  warnings.warn(\n",
      "C:\\Users\\s4499\\anaconda3\\lib\\site-packages\\bs4\\__init__.py:417: MarkupResemblesLocatorWarning: \"https://en.setopati.com/political/155615\" looks like a URL. Beautiful Soup is not an HTTP client. You should probably use an HTTP client like requests to get the document behind the URL, and feed that document to Beautiful Soup.\n",
      "  warnings.warn(\n",
      "C:\\Users\\s4499\\anaconda3\\lib\\site-packages\\bs4\\__init__.py:417: MarkupResemblesLocatorWarning: \"https://en.setopati.com/political/155612\" looks like a URL. Beautiful Soup is not an HTTP client. You should probably use an HTTP client like requests to get the document behind the URL, and feed that document to Beautiful Soup.\n",
      "  warnings.warn(\n",
      "C:\\Users\\s4499\\anaconda3\\lib\\site-packages\\bs4\\__init__.py:417: MarkupResemblesLocatorWarning: \"https://en.setopati.com/political/155610\" looks like a URL. Beautiful Soup is not an HTTP client. You should probably use an HTTP client like requests to get the document behind the URL, and feed that document to Beautiful Soup.\n",
      "  warnings.warn(\n",
      "C:\\Users\\s4499\\anaconda3\\lib\\site-packages\\bs4\\__init__.py:417: MarkupResemblesLocatorWarning: \"https://en.setopati.com/political/155607\" looks like a URL. Beautiful Soup is not an HTTP client. You should probably use an HTTP client like requests to get the document behind the URL, and feed that document to Beautiful Soup.\n",
      "  warnings.warn(\n",
      "C:\\Users\\s4499\\anaconda3\\lib\\site-packages\\bs4\\__init__.py:417: MarkupResemblesLocatorWarning: \"https://en.setopati.com/political/155606\" looks like a URL. Beautiful Soup is not an HTTP client. You should probably use an HTTP client like requests to get the document behind the URL, and feed that document to Beautiful Soup.\n",
      "  warnings.warn(\n",
      "C:\\Users\\s4499\\anaconda3\\lib\\site-packages\\bs4\\__init__.py:417: MarkupResemblesLocatorWarning: \"https://en.setopati.com/political/155605\" looks like a URL. Beautiful Soup is not an HTTP client. You should probably use an HTTP client like requests to get the document behind the URL, and feed that document to Beautiful Soup.\n",
      "  warnings.warn(\n"
     ]
    },
    {
     "name": "stderr",
     "output_type": "stream",
     "text": [
      "C:\\Users\\s4499\\anaconda3\\lib\\site-packages\\bs4\\__init__.py:417: MarkupResemblesLocatorWarning: \"https://en.setopati.com/political/155601\" looks like a URL. Beautiful Soup is not an HTTP client. You should probably use an HTTP client like requests to get the document behind the URL, and feed that document to Beautiful Soup.\n",
      "  warnings.warn(\n",
      "C:\\Users\\s4499\\anaconda3\\lib\\site-packages\\bs4\\__init__.py:417: MarkupResemblesLocatorWarning: \"https://en.setopati.com/political/155599\" looks like a URL. Beautiful Soup is not an HTTP client. You should probably use an HTTP client like requests to get the document behind the URL, and feed that document to Beautiful Soup.\n",
      "  warnings.warn(\n",
      "C:\\Users\\s4499\\anaconda3\\lib\\site-packages\\bs4\\__init__.py:417: MarkupResemblesLocatorWarning: \"https://en.setopati.com/political/155598\" looks like a URL. Beautiful Soup is not an HTTP client. You should probably use an HTTP client like requests to get the document behind the URL, and feed that document to Beautiful Soup.\n",
      "  warnings.warn(\n",
      "C:\\Users\\s4499\\anaconda3\\lib\\site-packages\\bs4\\__init__.py:417: MarkupResemblesLocatorWarning: \"https://en.setopati.com/political/155593\" looks like a URL. Beautiful Soup is not an HTTP client. You should probably use an HTTP client like requests to get the document behind the URL, and feed that document to Beautiful Soup.\n",
      "  warnings.warn(\n",
      "C:\\Users\\s4499\\anaconda3\\lib\\site-packages\\bs4\\__init__.py:417: MarkupResemblesLocatorWarning: \"https://en.setopati.com/political/155592\" looks like a URL. Beautiful Soup is not an HTTP client. You should probably use an HTTP client like requests to get the document behind the URL, and feed that document to Beautiful Soup.\n",
      "  warnings.warn(\n",
      "C:\\Users\\s4499\\anaconda3\\lib\\site-packages\\bs4\\__init__.py:417: MarkupResemblesLocatorWarning: \"https://en.setopati.com/political/155586\" looks like a URL. Beautiful Soup is not an HTTP client. You should probably use an HTTP client like requests to get the document behind the URL, and feed that document to Beautiful Soup.\n",
      "  warnings.warn(\n",
      "C:\\Users\\s4499\\anaconda3\\lib\\site-packages\\bs4\\__init__.py:417: MarkupResemblesLocatorWarning: \"https://en.setopati.com/political/155585\" looks like a URL. Beautiful Soup is not an HTTP client. You should probably use an HTTP client like requests to get the document behind the URL, and feed that document to Beautiful Soup.\n",
      "  warnings.warn(\n",
      "C:\\Users\\s4499\\anaconda3\\lib\\site-packages\\bs4\\__init__.py:417: MarkupResemblesLocatorWarning: \"https://en.setopati.com/political/155584\" looks like a URL. Beautiful Soup is not an HTTP client. You should probably use an HTTP client like requests to get the document behind the URL, and feed that document to Beautiful Soup.\n",
      "  warnings.warn(\n",
      "C:\\Users\\s4499\\anaconda3\\lib\\site-packages\\bs4\\__init__.py:417: MarkupResemblesLocatorWarning: \"https://en.setopati.com/political/155581\" looks like a URL. Beautiful Soup is not an HTTP client. You should probably use an HTTP client like requests to get the document behind the URL, and feed that document to Beautiful Soup.\n",
      "  warnings.warn(\n",
      "C:\\Users\\s4499\\anaconda3\\lib\\site-packages\\bs4\\__init__.py:417: MarkupResemblesLocatorWarning: \"https://en.setopati.com/political/155579\" looks like a URL. Beautiful Soup is not an HTTP client. You should probably use an HTTP client like requests to get the document behind the URL, and feed that document to Beautiful Soup.\n",
      "  warnings.warn(\n",
      "C:\\Users\\s4499\\anaconda3\\lib\\site-packages\\bs4\\__init__.py:417: MarkupResemblesLocatorWarning: \"https://en.setopati.com/political/155578\" looks like a URL. Beautiful Soup is not an HTTP client. You should probably use an HTTP client like requests to get the document behind the URL, and feed that document to Beautiful Soup.\n",
      "  warnings.warn(\n",
      "C:\\Users\\s4499\\anaconda3\\lib\\site-packages\\bs4\\__init__.py:417: MarkupResemblesLocatorWarning: \"https://en.setopati.com/political/155574\" looks like a URL. Beautiful Soup is not an HTTP client. You should probably use an HTTP client like requests to get the document behind the URL, and feed that document to Beautiful Soup.\n",
      "  warnings.warn(\n",
      "C:\\Users\\s4499\\anaconda3\\lib\\site-packages\\bs4\\__init__.py:417: MarkupResemblesLocatorWarning: \"https://en.setopati.com/political/155573\" looks like a URL. Beautiful Soup is not an HTTP client. You should probably use an HTTP client like requests to get the document behind the URL, and feed that document to Beautiful Soup.\n",
      "  warnings.warn(\n",
      "C:\\Users\\s4499\\anaconda3\\lib\\site-packages\\bs4\\__init__.py:417: MarkupResemblesLocatorWarning: \"https://en.setopati.com/political/155572\" looks like a URL. Beautiful Soup is not an HTTP client. You should probably use an HTTP client like requests to get the document behind the URL, and feed that document to Beautiful Soup.\n",
      "  warnings.warn(\n",
      "C:\\Users\\s4499\\anaconda3\\lib\\site-packages\\bs4\\__init__.py:417: MarkupResemblesLocatorWarning: \"https://en.setopati.com/political/155567\" looks like a URL. Beautiful Soup is not an HTTP client. You should probably use an HTTP client like requests to get the document behind the URL, and feed that document to Beautiful Soup.\n",
      "  warnings.warn(\n",
      "C:\\Users\\s4499\\anaconda3\\lib\\site-packages\\bs4\\__init__.py:417: MarkupResemblesLocatorWarning: \"https://en.setopati.com/political/155564\" looks like a URL. Beautiful Soup is not an HTTP client. You should probably use an HTTP client like requests to get the document behind the URL, and feed that document to Beautiful Soup.\n",
      "  warnings.warn(\n",
      "C:\\Users\\s4499\\anaconda3\\lib\\site-packages\\bs4\\__init__.py:417: MarkupResemblesLocatorWarning: \"https://en.setopati.com/political/155562\" looks like a URL. Beautiful Soup is not an HTTP client. You should probably use an HTTP client like requests to get the document behind the URL, and feed that document to Beautiful Soup.\n",
      "  warnings.warn(\n",
      "C:\\Users\\s4499\\anaconda3\\lib\\site-packages\\bs4\\__init__.py:417: MarkupResemblesLocatorWarning: \"https://en.setopati.com/political/155558\" looks like a URL. Beautiful Soup is not an HTTP client. You should probably use an HTTP client like requests to get the document behind the URL, and feed that document to Beautiful Soup.\n",
      "  warnings.warn(\n",
      "C:\\Users\\s4499\\anaconda3\\lib\\site-packages\\bs4\\__init__.py:417: MarkupResemblesLocatorWarning: \"https://en.setopati.com/political/155557\" looks like a URL. Beautiful Soup is not an HTTP client. You should probably use an HTTP client like requests to get the document behind the URL, and feed that document to Beautiful Soup.\n",
      "  warnings.warn(\n",
      "C:\\Users\\s4499\\anaconda3\\lib\\site-packages\\bs4\\__init__.py:417: MarkupResemblesLocatorWarning: \"https://en.setopati.com/political/155554\" looks like a URL. Beautiful Soup is not an HTTP client. You should probably use an HTTP client like requests to get the document behind the URL, and feed that document to Beautiful Soup.\n",
      "  warnings.warn(\n",
      "C:\\Users\\s4499\\anaconda3\\lib\\site-packages\\bs4\\__init__.py:417: MarkupResemblesLocatorWarning: \"https://en.setopati.com/political/155549\" looks like a URL. Beautiful Soup is not an HTTP client. You should probably use an HTTP client like requests to get the document behind the URL, and feed that document to Beautiful Soup.\n",
      "  warnings.warn(\n",
      "C:\\Users\\s4499\\anaconda3\\lib\\site-packages\\bs4\\__init__.py:417: MarkupResemblesLocatorWarning: \"https://en.setopati.com/political/155547\" looks like a URL. Beautiful Soup is not an HTTP client. You should probably use an HTTP client like requests to get the document behind the URL, and feed that document to Beautiful Soup.\n",
      "  warnings.warn(\n",
      "C:\\Users\\s4499\\anaconda3\\lib\\site-packages\\bs4\\__init__.py:417: MarkupResemblesLocatorWarning: \"https://en.setopati.com/political/155542\" looks like a URL. Beautiful Soup is not an HTTP client. You should probably use an HTTP client like requests to get the document behind the URL, and feed that document to Beautiful Soup.\n",
      "  warnings.warn(\n",
      "C:\\Users\\s4499\\anaconda3\\lib\\site-packages\\bs4\\__init__.py:417: MarkupResemblesLocatorWarning: \"https://en.setopati.com/political/155536\" looks like a URL. Beautiful Soup is not an HTTP client. You should probably use an HTTP client like requests to get the document behind the URL, and feed that document to Beautiful Soup.\n",
      "  warnings.warn(\n"
     ]
    },
    {
     "name": "stderr",
     "output_type": "stream",
     "text": [
      "C:\\Users\\s4499\\anaconda3\\lib\\site-packages\\bs4\\__init__.py:417: MarkupResemblesLocatorWarning: \"https://en.setopati.com/political/155535\" looks like a URL. Beautiful Soup is not an HTTP client. You should probably use an HTTP client like requests to get the document behind the URL, and feed that document to Beautiful Soup.\n",
      "  warnings.warn(\n",
      "C:\\Users\\s4499\\anaconda3\\lib\\site-packages\\bs4\\__init__.py:417: MarkupResemblesLocatorWarning: \"https://en.setopati.com/political/155534\" looks like a URL. Beautiful Soup is not an HTTP client. You should probably use an HTTP client like requests to get the document behind the URL, and feed that document to Beautiful Soup.\n",
      "  warnings.warn(\n",
      "C:\\Users\\s4499\\anaconda3\\lib\\site-packages\\bs4\\__init__.py:417: MarkupResemblesLocatorWarning: \"https://en.setopati.com/political/155526\" looks like a URL. Beautiful Soup is not an HTTP client. You should probably use an HTTP client like requests to get the document behind the URL, and feed that document to Beautiful Soup.\n",
      "  warnings.warn(\n",
      "C:\\Users\\s4499\\anaconda3\\lib\\site-packages\\bs4\\__init__.py:417: MarkupResemblesLocatorWarning: \"https://en.setopati.com/political/155525\" looks like a URL. Beautiful Soup is not an HTTP client. You should probably use an HTTP client like requests to get the document behind the URL, and feed that document to Beautiful Soup.\n",
      "  warnings.warn(\n",
      "C:\\Users\\s4499\\anaconda3\\lib\\site-packages\\bs4\\__init__.py:417: MarkupResemblesLocatorWarning: \"https://en.setopati.com/political/155524\" looks like a URL. Beautiful Soup is not an HTTP client. You should probably use an HTTP client like requests to get the document behind the URL, and feed that document to Beautiful Soup.\n",
      "  warnings.warn(\n",
      "C:\\Users\\s4499\\anaconda3\\lib\\site-packages\\bs4\\__init__.py:417: MarkupResemblesLocatorWarning: \"https://en.setopati.com/political/155520\" looks like a URL. Beautiful Soup is not an HTTP client. You should probably use an HTTP client like requests to get the document behind the URL, and feed that document to Beautiful Soup.\n",
      "  warnings.warn(\n",
      "C:\\Users\\s4499\\anaconda3\\lib\\site-packages\\bs4\\__init__.py:417: MarkupResemblesLocatorWarning: \"https://en.setopati.com/political/155519\" looks like a URL. Beautiful Soup is not an HTTP client. You should probably use an HTTP client like requests to get the document behind the URL, and feed that document to Beautiful Soup.\n",
      "  warnings.warn(\n",
      "C:\\Users\\s4499\\anaconda3\\lib\\site-packages\\bs4\\__init__.py:417: MarkupResemblesLocatorWarning: \"https://en.setopati.com/political/155518\" looks like a URL. Beautiful Soup is not an HTTP client. You should probably use an HTTP client like requests to get the document behind the URL, and feed that document to Beautiful Soup.\n",
      "  warnings.warn(\n",
      "C:\\Users\\s4499\\anaconda3\\lib\\site-packages\\bs4\\__init__.py:417: MarkupResemblesLocatorWarning: \"https://en.setopati.com/political/155515\" looks like a URL. Beautiful Soup is not an HTTP client. You should probably use an HTTP client like requests to get the document behind the URL, and feed that document to Beautiful Soup.\n",
      "  warnings.warn(\n",
      "C:\\Users\\s4499\\anaconda3\\lib\\site-packages\\bs4\\__init__.py:417: MarkupResemblesLocatorWarning: \"https://en.setopati.com/political/155512\" looks like a URL. Beautiful Soup is not an HTTP client. You should probably use an HTTP client like requests to get the document behind the URL, and feed that document to Beautiful Soup.\n",
      "  warnings.warn(\n"
     ]
    },
    {
     "data": {
      "text/plain": [
       "'Russian opposition leader Alexei Navalny, who is in the third week of a hunger strike while behind bars, was moved to a hospital in another prison after his doctor said he could be near death, his lawyer said Monday.Navalny was transferred Sunday from a penal colony east of Moscow to a prison hospital in Vladimir, a city 180 kilometers 110 miles east of the capital, lawyer Alexei Liptser said after visiting the politician on Monday afternoon.Yesterday he was really unwell.  Given the test results and the overall state of his health, it was decided to transfer him here. In the evening, he became significantly worse, Liptser said. While Navalny was able to meet with him Monday, he continued his hunger strike and in general his look indicates he is really unwell, the lawyer added.Russias state penitentiary service FSIN did not report the decision to transfer Navalny until Monday morning and a statement it released said he had agreed to take vitamin therapy.Liptser said he didnt have enough time with his client to confirm that They were searching him ahead of our meeting longer than our meeting had lasted. He was outraged by this. Therefore, we couldnt discuss anything, apart from what has happened to him.The prison service statement said Navalnys condition was deemed satisfactory. But the opposition leaders physician, Dr. Yaroslav Ashikhmin, said Saturday that test results provided by the family show Navalny has sharply elevated levels of potassium, which can bring on cardiac arrest, as well as heightened creatinine levels that indicate impaired kidney function.MORE STORIES EU warns spark could set off escalation at Ukraine borders Navalnys team calls protests amid reports of failing health Navalnys doctor Putin critic could die at any momentOur patient could die at any moment, he said in a Facebook post.Reports about his rapidly declining health drew international outrage and calls urging Russian authorities to give adequate medical help to Navalny, who is President Vladimir Putins fiercest opponent. European Union foreign ministers were assessing the blocs strategy toward Russia in wake of the news.White House press secretary Jen Psaki called for his release and that he must be treated humanely, adding that U.S. National Security Adviser Jake Sullivan discussed Navalny with Nikolai Patrushev, head of the Russian Security Council.What happens to Mr. Navalny in the custody of the Russian government is the responsibility of the Russian government, and that they will be held accountable by the international community, she added.Navalny was arrested in January upon his return from Germany, where he had spent five months recovering from a nerve agent poisoning he blames on the Kremlin  an accusation Russian officials have rejected. His arrest triggered massive protests across Russia, the biggest show of defiance in recent years. Soon after, a court ordered him to serve 2 12 years in prison on a 2014 embezzlement conviction that the European Court of Human Rights deemed to be arbitrary and manifestly unreasonable.Navalny began a hunger strike to protest the refusal to let his doctors visit when he began experiencing severe back pain and a loss of feeling in his legs. The penitentiary service has said Navalny was getting all the medical help he needs.In response to the alarming news about Navalnys health, his team has called for a nationwide rally Wednesday, the same day that Putin is scheduled to deliver his annual state of the nation address. According to a website dedicated to the protests, demonstrations were being planned in 77 Russian cities as of Monday afternoon.The Interior Ministry in a statement urged Russians not to take part in unauthorized rallies, citing coronavirus risks and alleging that some destructiveminded participants might provoke unrest. Kremlin spokesman Dmitry Peskov said police will treat any unauthorized protests as illegal. In the past, security forces have violently broken up demonstrations.Already, Russian authorities have taken their crackdown on Navalnys allies and supporters to a new level, with the Moscow prosecutors office last week petitioning a court to label as extremist groups Navalnys Foundation for Fighting Corruption and his network of regional offices.Human rights advocates say if that happens, both the foundation and the regional offices would be outlawed, paralyzing their operations, and those who work for either could be prosecuted. Donating money to the groups  something thousands of Russians have done regularly in recent years  would also become a criminal offense punishable by prison.For now, several Navalny allies have dismissed as insufficient the move to move him to the prison hospital. Ivan Zhdanov, head of the Foundation for Fighting Corruption, tweeted that the transfer takes Navalny merely to another tormenting colony, just with a big inpatient facility, where gravely ill are being transferred.Dr. Anastasia Vasilyeva, head of the Navalnybacked Alliance of Doctors union and also his personal physician, noted that it was not a hospital where a diagnosis can be determined and treatment can be prescribed for his ailments, but rather a prison where tuberculosis is being treated.She again called for the prison to let her and other physicians see him, but Liptser said that prison officials told Navalny he wont be allowed a visit from civilian doctors.Since last month, the politician has been serving his sentence in a penal colony notorious for its harsh conditions.Navalny has complained about being sleepdeprived because guards conduct hourly checks on him at night, and he said he developed severe back pain and numbness in his legs within weeks of his transfer to the colony. His demands for a visit from an independent civilian physician were rebuffed by prison officials, and he began the hunger strike March 31.In a wry message Friday from prison, Navalny said authorities threatened to forcefeed him imminently, using a straitjacket and other pleasures.Full Coverage RussiaThe French newspaper Le Monde on Friday published a letter to Putin signed by dozens of cultural figures  including writers Salman Rushdie and Mario Vargas Llosa, singer Patti Smith and actors Benedict Cumberbatch and Kristin Scott Thomas  urging him to give Navalny access to proper medical care.On Monday, Council of Europe Commissioner for Human Rights, Dunja Mijatovi, reiterated her calls for Navalnys release and to give him full access to medical care in light of his serious health deterioration.'"
      ]
     },
     "execution_count": 4,
     "metadata": {},
     "output_type": "execute_result"
    }
   ],
   "source": [
    "from bs4 import BeautifulSoup\n",
    "import requests\n",
    "final_news = []\n",
    "for i in links:\n",
    "    url = BeautifulSoup(i, 'html.parser').encode(\"utf-8\")\n",
    "    response = requests.get(url)\n",
    "    data = response.text\n",
    "    data = BeautifulSoup(data,'lxml')\n",
    "    raw_data = data.find(\"div\", class_=\"editor-box\")\n",
    "    raw_string = raw_data.text\n",
    "    final = raw_string.replace('\\n','')\n",
    "    final1 = final.replace('%','')\n",
    "    final2 = final1.replace('$','')\n",
    "    final3 = final2.replace('”','')\n",
    "    final4 = final3.replace('’','')\n",
    "    final5 = final4.replace('&','')\n",
    "    final6 = final5.replace(\"“\",'')\n",
    "    final7 = final6.replace(\"\\xa0\",'')\n",
    "    final8 = final7.replace(\";\",'')\n",
    "    final9 = final8.replace(\":\",'')\n",
    "    final10 = final9.replace(\"?\",'')\n",
    "    final11 = final10.replace(\"—\",'')\n",
    "    final12 = final11.replace(\"\\r\",'')\n",
    "    final13 = final12.replace(\"″\",'')\n",
    "    final14 = final13.replace(\"-\",'')\n",
    "    final15 = final14.replace(\"/\",'')\n",
    "    final16 = final15.replace(\"\\'\",'')\n",
    "    final17 = final16.replace(\"!\",'')\n",
    "    final18 = final17.replace(\"@\",'')\n",
    "    final19 = final18.replace(\"___\",'')\n",
    "    final20 = final19.replace(\"...\",'')\n",
    "    final21 = final20.replace(\"–\",'')\n",
    "    final22 = final21.replace(\")\",'')\n",
    "    final23 = final22.replace(\"(\",'')\n",
    "    final24 = final23.replace('\"','')\n",
    "    final25 = final24.replace(\"ć\",'')\n",
    "    final_news.append(final25)\n",
    "final_news[21]\n"
   ]
  },
  {
   "cell_type": "code",
   "execution_count": 5,
   "metadata": {},
   "outputs": [],
   "source": [
    "import csv\n",
    "\n",
    "fields=final_news\n",
    "for i in range(len(final_news)):\n",
    "    f=open(f'political{i}.txt','a')\n",
    "    f.write(final_news[i])\n",
    "    f.close()"
   ]
  },
  {
   "cell_type": "code",
   "execution_count": null,
   "metadata": {},
   "outputs": [],
   "source": []
  }
 ],
 "metadata": {
  "kernelspec": {
   "display_name": "Python 3",
   "language": "python",
   "name": "python3"
  },
  "language_info": {
   "codemirror_mode": {
    "name": "ipython",
    "version": 3
   },
   "file_extension": ".py",
   "mimetype": "text/x-python",
   "name": "python",
   "nbconvert_exporter": "python",
   "pygments_lexer": "ipython3",
   "version": "3.8.5"
  }
 },
 "nbformat": 4,
 "nbformat_minor": 4
}
